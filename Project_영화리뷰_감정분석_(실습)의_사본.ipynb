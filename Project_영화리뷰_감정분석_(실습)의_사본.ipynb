{
  "nbformat": 4,
  "nbformat_minor": 0,
  "metadata": {
    "colab": {
      "name": "Project-영화리뷰-감정분석-(실습)의 사본",
      "provenance": [],
      "collapsed_sections": [],
      "include_colab_link": true
    },
    "kernelspec": {
      "display_name": "Python 3 (ipykernel)",
      "language": "python",
      "name": "python3"
    },
    "language_info": {
      "codemirror_mode": {
        "name": "ipython",
        "version": 3
      },
      "file_extension": ".py",
      "mimetype": "text/x-python",
      "name": "python",
      "nbconvert_exporter": "python",
      "pygments_lexer": "ipython3",
      "version": "3.7.10"
    },
    "accelerator": "GPU",
    "widgets": {
      "application/vnd.jupyter.widget-state+json": {
        "7dd85e3d7a1b45659359dfed9c692166": {
          "model_module": "@jupyter-widgets/controls",
          "model_name": "HBoxModel",
          "model_module_version": "1.5.0",
          "state": {
            "_dom_classes": [],
            "_model_module": "@jupyter-widgets/controls",
            "_model_module_version": "1.5.0",
            "_model_name": "HBoxModel",
            "_view_count": null,
            "_view_module": "@jupyter-widgets/controls",
            "_view_module_version": "1.5.0",
            "_view_name": "HBoxView",
            "box_style": "",
            "children": [
              "IPY_MODEL_df40400ee9c449f2ae60f9cb9caa794e",
              "IPY_MODEL_87d73a947ab7412eaea99c03701704dc",
              "IPY_MODEL_dda5111a60b94caaaf47139bb79eb076"
            ],
            "layout": "IPY_MODEL_dc9db317a01241e2bc4aaf1d6e3132e6"
          }
        },
        "df40400ee9c449f2ae60f9cb9caa794e": {
          "model_module": "@jupyter-widgets/controls",
          "model_name": "HTMLModel",
          "model_module_version": "1.5.0",
          "state": {
            "_dom_classes": [],
            "_model_module": "@jupyter-widgets/controls",
            "_model_module_version": "1.5.0",
            "_model_name": "HTMLModel",
            "_view_count": null,
            "_view_module": "@jupyter-widgets/controls",
            "_view_module_version": "1.5.0",
            "_view_name": "HTMLView",
            "description": "",
            "description_tooltip": null,
            "layout": "IPY_MODEL_9da794557976419cb4546ab3867d3767",
            "placeholder": "​",
            "style": "IPY_MODEL_fe9fe4004cfd4f159bf2dd34dbce25ae",
            "value": "100%"
          }
        },
        "87d73a947ab7412eaea99c03701704dc": {
          "model_module": "@jupyter-widgets/controls",
          "model_name": "FloatProgressModel",
          "model_module_version": "1.5.0",
          "state": {
            "_dom_classes": [],
            "_model_module": "@jupyter-widgets/controls",
            "_model_module_version": "1.5.0",
            "_model_name": "FloatProgressModel",
            "_view_count": null,
            "_view_module": "@jupyter-widgets/controls",
            "_view_module_version": "1.5.0",
            "_view_name": "ProgressView",
            "bar_style": "success",
            "description": "",
            "description_tooltip": null,
            "layout": "IPY_MODEL_6edf018ff474486abb10eae489a1e934",
            "max": 992995,
            "min": 0,
            "orientation": "horizontal",
            "style": "IPY_MODEL_8a8443cdad9e4b618f603c07feaccf94",
            "value": 992995
          }
        },
        "dda5111a60b94caaaf47139bb79eb076": {
          "model_module": "@jupyter-widgets/controls",
          "model_name": "HTMLModel",
          "model_module_version": "1.5.0",
          "state": {
            "_dom_classes": [],
            "_model_module": "@jupyter-widgets/controls",
            "_model_module_version": "1.5.0",
            "_model_name": "HTMLModel",
            "_view_count": null,
            "_view_module": "@jupyter-widgets/controls",
            "_view_module_version": "1.5.0",
            "_view_name": "HTMLView",
            "description": "",
            "description_tooltip": null,
            "layout": "IPY_MODEL_a93ff157bfb1433583faf8a42f19b2fe",
            "placeholder": "​",
            "style": "IPY_MODEL_056e16901b784192840c83531ebf361f",
            "value": " 993k/993k [00:00&lt;00:00, 10.9MB/s]"
          }
        },
        "dc9db317a01241e2bc4aaf1d6e3132e6": {
          "model_module": "@jupyter-widgets/base",
          "model_name": "LayoutModel",
          "model_module_version": "1.2.0",
          "state": {
            "_model_module": "@jupyter-widgets/base",
            "_model_module_version": "1.2.0",
            "_model_name": "LayoutModel",
            "_view_count": null,
            "_view_module": "@jupyter-widgets/base",
            "_view_module_version": "1.2.0",
            "_view_name": "LayoutView",
            "align_content": null,
            "align_items": null,
            "align_self": null,
            "border": null,
            "bottom": null,
            "display": null,
            "flex": null,
            "flex_flow": null,
            "grid_area": null,
            "grid_auto_columns": null,
            "grid_auto_flow": null,
            "grid_auto_rows": null,
            "grid_column": null,
            "grid_gap": null,
            "grid_row": null,
            "grid_template_areas": null,
            "grid_template_columns": null,
            "grid_template_rows": null,
            "height": null,
            "justify_content": null,
            "justify_items": null,
            "left": null,
            "margin": null,
            "max_height": null,
            "max_width": null,
            "min_height": null,
            "min_width": null,
            "object_fit": null,
            "object_position": null,
            "order": null,
            "overflow": null,
            "overflow_x": null,
            "overflow_y": null,
            "padding": null,
            "right": null,
            "top": null,
            "visibility": null,
            "width": null
          }
        },
        "9da794557976419cb4546ab3867d3767": {
          "model_module": "@jupyter-widgets/base",
          "model_name": "LayoutModel",
          "model_module_version": "1.2.0",
          "state": {
            "_model_module": "@jupyter-widgets/base",
            "_model_module_version": "1.2.0",
            "_model_name": "LayoutModel",
            "_view_count": null,
            "_view_module": "@jupyter-widgets/base",
            "_view_module_version": "1.2.0",
            "_view_name": "LayoutView",
            "align_content": null,
            "align_items": null,
            "align_self": null,
            "border": null,
            "bottom": null,
            "display": null,
            "flex": null,
            "flex_flow": null,
            "grid_area": null,
            "grid_auto_columns": null,
            "grid_auto_flow": null,
            "grid_auto_rows": null,
            "grid_column": null,
            "grid_gap": null,
            "grid_row": null,
            "grid_template_areas": null,
            "grid_template_columns": null,
            "grid_template_rows": null,
            "height": null,
            "justify_content": null,
            "justify_items": null,
            "left": null,
            "margin": null,
            "max_height": null,
            "max_width": null,
            "min_height": null,
            "min_width": null,
            "object_fit": null,
            "object_position": null,
            "order": null,
            "overflow": null,
            "overflow_x": null,
            "overflow_y": null,
            "padding": null,
            "right": null,
            "top": null,
            "visibility": null,
            "width": null
          }
        },
        "fe9fe4004cfd4f159bf2dd34dbce25ae": {
          "model_module": "@jupyter-widgets/controls",
          "model_name": "DescriptionStyleModel",
          "model_module_version": "1.5.0",
          "state": {
            "_model_module": "@jupyter-widgets/controls",
            "_model_module_version": "1.5.0",
            "_model_name": "DescriptionStyleModel",
            "_view_count": null,
            "_view_module": "@jupyter-widgets/base",
            "_view_module_version": "1.2.0",
            "_view_name": "StyleView",
            "description_width": ""
          }
        },
        "6edf018ff474486abb10eae489a1e934": {
          "model_module": "@jupyter-widgets/base",
          "model_name": "LayoutModel",
          "model_module_version": "1.2.0",
          "state": {
            "_model_module": "@jupyter-widgets/base",
            "_model_module_version": "1.2.0",
            "_model_name": "LayoutModel",
            "_view_count": null,
            "_view_module": "@jupyter-widgets/base",
            "_view_module_version": "1.2.0",
            "_view_name": "LayoutView",
            "align_content": null,
            "align_items": null,
            "align_self": null,
            "border": null,
            "bottom": null,
            "display": null,
            "flex": null,
            "flex_flow": null,
            "grid_area": null,
            "grid_auto_columns": null,
            "grid_auto_flow": null,
            "grid_auto_rows": null,
            "grid_column": null,
            "grid_gap": null,
            "grid_row": null,
            "grid_template_areas": null,
            "grid_template_columns": null,
            "grid_template_rows": null,
            "height": null,
            "justify_content": null,
            "justify_items": null,
            "left": null,
            "margin": null,
            "max_height": null,
            "max_width": null,
            "min_height": null,
            "min_width": null,
            "object_fit": null,
            "object_position": null,
            "order": null,
            "overflow": null,
            "overflow_x": null,
            "overflow_y": null,
            "padding": null,
            "right": null,
            "top": null,
            "visibility": null,
            "width": null
          }
        },
        "8a8443cdad9e4b618f603c07feaccf94": {
          "model_module": "@jupyter-widgets/controls",
          "model_name": "ProgressStyleModel",
          "model_module_version": "1.5.0",
          "state": {
            "_model_module": "@jupyter-widgets/controls",
            "_model_module_version": "1.5.0",
            "_model_name": "ProgressStyleModel",
            "_view_count": null,
            "_view_module": "@jupyter-widgets/base",
            "_view_module_version": "1.2.0",
            "_view_name": "StyleView",
            "bar_color": null,
            "description_width": ""
          }
        },
        "a93ff157bfb1433583faf8a42f19b2fe": {
          "model_module": "@jupyter-widgets/base",
          "model_name": "LayoutModel",
          "model_module_version": "1.2.0",
          "state": {
            "_model_module": "@jupyter-widgets/base",
            "_model_module_version": "1.2.0",
            "_model_name": "LayoutModel",
            "_view_count": null,
            "_view_module": "@jupyter-widgets/base",
            "_view_module_version": "1.2.0",
            "_view_name": "LayoutView",
            "align_content": null,
            "align_items": null,
            "align_self": null,
            "border": null,
            "bottom": null,
            "display": null,
            "flex": null,
            "flex_flow": null,
            "grid_area": null,
            "grid_auto_columns": null,
            "grid_auto_flow": null,
            "grid_auto_rows": null,
            "grid_column": null,
            "grid_gap": null,
            "grid_row": null,
            "grid_template_areas": null,
            "grid_template_columns": null,
            "grid_template_rows": null,
            "height": null,
            "justify_content": null,
            "justify_items": null,
            "left": null,
            "margin": null,
            "max_height": null,
            "max_width": null,
            "min_height": null,
            "min_width": null,
            "object_fit": null,
            "object_position": null,
            "order": null,
            "overflow": null,
            "overflow_x": null,
            "overflow_y": null,
            "padding": null,
            "right": null,
            "top": null,
            "visibility": null,
            "width": null
          }
        },
        "056e16901b784192840c83531ebf361f": {
          "model_module": "@jupyter-widgets/controls",
          "model_name": "DescriptionStyleModel",
          "model_module_version": "1.5.0",
          "state": {
            "_model_module": "@jupyter-widgets/controls",
            "_model_module_version": "1.5.0",
            "_model_name": "DescriptionStyleModel",
            "_view_count": null,
            "_view_module": "@jupyter-widgets/base",
            "_view_module_version": "1.2.0",
            "_view_name": "StyleView",
            "description_width": ""
          }
        },
        "0105f291faee4c57bfd4242bc256e4f7": {
          "model_module": "@jupyter-widgets/controls",
          "model_name": "HBoxModel",
          "model_module_version": "1.5.0",
          "state": {
            "_dom_classes": [],
            "_model_module": "@jupyter-widgets/controls",
            "_model_module_version": "1.5.0",
            "_model_name": "HBoxModel",
            "_view_count": null,
            "_view_module": "@jupyter-widgets/controls",
            "_view_module_version": "1.5.0",
            "_view_name": "HBoxView",
            "box_style": "",
            "children": [
              "IPY_MODEL_2eb0db20b7da420fae9212ff51cdeeb9",
              "IPY_MODEL_3b48136e86db49a39e4cdf37ff4e51cc",
              "IPY_MODEL_3bcefaa9476e4b87a09d4d2a90976d4f"
            ],
            "layout": "IPY_MODEL_b7d090c9c9b84a33866a5378541023d7"
          }
        },
        "2eb0db20b7da420fae9212ff51cdeeb9": {
          "model_module": "@jupyter-widgets/controls",
          "model_name": "HTMLModel",
          "model_module_version": "1.5.0",
          "state": {
            "_dom_classes": [],
            "_model_module": "@jupyter-widgets/controls",
            "_model_module_version": "1.5.0",
            "_model_name": "HTMLModel",
            "_view_count": null,
            "_view_module": "@jupyter-widgets/controls",
            "_view_module_version": "1.5.0",
            "_view_name": "HTMLView",
            "description": "",
            "description_tooltip": null,
            "layout": "IPY_MODEL_796f469b23574e9a83f7f9a96913373a",
            "placeholder": "​",
            "style": "IPY_MODEL_e1884b7767344be3aa4d06f9505647ea",
            "value": "100%"
          }
        },
        "3b48136e86db49a39e4cdf37ff4e51cc": {
          "model_module": "@jupyter-widgets/controls",
          "model_name": "FloatProgressModel",
          "model_module_version": "1.5.0",
          "state": {
            "_dom_classes": [],
            "_model_module": "@jupyter-widgets/controls",
            "_model_module_version": "1.5.0",
            "_model_name": "FloatProgressModel",
            "_view_count": null,
            "_view_module": "@jupyter-widgets/controls",
            "_view_module_version": "1.5.0",
            "_view_name": "ProgressView",
            "bar_style": "success",
            "description": "",
            "description_tooltip": null,
            "layout": "IPY_MODEL_addb659ddd4d460c84aafd25f736a21b",
            "max": 963404,
            "min": 0,
            "orientation": "horizontal",
            "style": "IPY_MODEL_9b567608ba674bd8a8cf3d553a06c7af",
            "value": 963404
          }
        },
        "3bcefaa9476e4b87a09d4d2a90976d4f": {
          "model_module": "@jupyter-widgets/controls",
          "model_name": "HTMLModel",
          "model_module_version": "1.5.0",
          "state": {
            "_dom_classes": [],
            "_model_module": "@jupyter-widgets/controls",
            "_model_module_version": "1.5.0",
            "_model_name": "HTMLModel",
            "_view_count": null,
            "_view_module": "@jupyter-widgets/controls",
            "_view_module_version": "1.5.0",
            "_view_name": "HTMLView",
            "description": "",
            "description_tooltip": null,
            "layout": "IPY_MODEL_28c896b3e44a47019ec70cb015e78acb",
            "placeholder": "​",
            "style": "IPY_MODEL_79f2e1efd98c4f0891ef83efb0e9aae1",
            "value": " 963k/963k [00:00&lt;00:00, 2.02MB/s]"
          }
        },
        "b7d090c9c9b84a33866a5378541023d7": {
          "model_module": "@jupyter-widgets/base",
          "model_name": "LayoutModel",
          "model_module_version": "1.2.0",
          "state": {
            "_model_module": "@jupyter-widgets/base",
            "_model_module_version": "1.2.0",
            "_model_name": "LayoutModel",
            "_view_count": null,
            "_view_module": "@jupyter-widgets/base",
            "_view_module_version": "1.2.0",
            "_view_name": "LayoutView",
            "align_content": null,
            "align_items": null,
            "align_self": null,
            "border": null,
            "bottom": null,
            "display": null,
            "flex": null,
            "flex_flow": null,
            "grid_area": null,
            "grid_auto_columns": null,
            "grid_auto_flow": null,
            "grid_auto_rows": null,
            "grid_column": null,
            "grid_gap": null,
            "grid_row": null,
            "grid_template_areas": null,
            "grid_template_columns": null,
            "grid_template_rows": null,
            "height": null,
            "justify_content": null,
            "justify_items": null,
            "left": null,
            "margin": null,
            "max_height": null,
            "max_width": null,
            "min_height": null,
            "min_width": null,
            "object_fit": null,
            "object_position": null,
            "order": null,
            "overflow": null,
            "overflow_x": null,
            "overflow_y": null,
            "padding": null,
            "right": null,
            "top": null,
            "visibility": null,
            "width": null
          }
        },
        "796f469b23574e9a83f7f9a96913373a": {
          "model_module": "@jupyter-widgets/base",
          "model_name": "LayoutModel",
          "model_module_version": "1.2.0",
          "state": {
            "_model_module": "@jupyter-widgets/base",
            "_model_module_version": "1.2.0",
            "_model_name": "LayoutModel",
            "_view_count": null,
            "_view_module": "@jupyter-widgets/base",
            "_view_module_version": "1.2.0",
            "_view_name": "LayoutView",
            "align_content": null,
            "align_items": null,
            "align_self": null,
            "border": null,
            "bottom": null,
            "display": null,
            "flex": null,
            "flex_flow": null,
            "grid_area": null,
            "grid_auto_columns": null,
            "grid_auto_flow": null,
            "grid_auto_rows": null,
            "grid_column": null,
            "grid_gap": null,
            "grid_row": null,
            "grid_template_areas": null,
            "grid_template_columns": null,
            "grid_template_rows": null,
            "height": null,
            "justify_content": null,
            "justify_items": null,
            "left": null,
            "margin": null,
            "max_height": null,
            "max_width": null,
            "min_height": null,
            "min_width": null,
            "object_fit": null,
            "object_position": null,
            "order": null,
            "overflow": null,
            "overflow_x": null,
            "overflow_y": null,
            "padding": null,
            "right": null,
            "top": null,
            "visibility": null,
            "width": null
          }
        },
        "e1884b7767344be3aa4d06f9505647ea": {
          "model_module": "@jupyter-widgets/controls",
          "model_name": "DescriptionStyleModel",
          "model_module_version": "1.5.0",
          "state": {
            "_model_module": "@jupyter-widgets/controls",
            "_model_module_version": "1.5.0",
            "_model_name": "DescriptionStyleModel",
            "_view_count": null,
            "_view_module": "@jupyter-widgets/base",
            "_view_module_version": "1.2.0",
            "_view_name": "StyleView",
            "description_width": ""
          }
        },
        "addb659ddd4d460c84aafd25f736a21b": {
          "model_module": "@jupyter-widgets/base",
          "model_name": "LayoutModel",
          "model_module_version": "1.2.0",
          "state": {
            "_model_module": "@jupyter-widgets/base",
            "_model_module_version": "1.2.0",
            "_model_name": "LayoutModel",
            "_view_count": null,
            "_view_module": "@jupyter-widgets/base",
            "_view_module_version": "1.2.0",
            "_view_name": "LayoutView",
            "align_content": null,
            "align_items": null,
            "align_self": null,
            "border": null,
            "bottom": null,
            "display": null,
            "flex": null,
            "flex_flow": null,
            "grid_area": null,
            "grid_auto_columns": null,
            "grid_auto_flow": null,
            "grid_auto_rows": null,
            "grid_column": null,
            "grid_gap": null,
            "grid_row": null,
            "grid_template_areas": null,
            "grid_template_columns": null,
            "grid_template_rows": null,
            "height": null,
            "justify_content": null,
            "justify_items": null,
            "left": null,
            "margin": null,
            "max_height": null,
            "max_width": null,
            "min_height": null,
            "min_width": null,
            "object_fit": null,
            "object_position": null,
            "order": null,
            "overflow": null,
            "overflow_x": null,
            "overflow_y": null,
            "padding": null,
            "right": null,
            "top": null,
            "visibility": null,
            "width": null
          }
        },
        "9b567608ba674bd8a8cf3d553a06c7af": {
          "model_module": "@jupyter-widgets/controls",
          "model_name": "ProgressStyleModel",
          "model_module_version": "1.5.0",
          "state": {
            "_model_module": "@jupyter-widgets/controls",
            "_model_module_version": "1.5.0",
            "_model_name": "ProgressStyleModel",
            "_view_count": null,
            "_view_module": "@jupyter-widgets/base",
            "_view_module_version": "1.2.0",
            "_view_name": "StyleView",
            "bar_color": null,
            "description_width": ""
          }
        },
        "28c896b3e44a47019ec70cb015e78acb": {
          "model_module": "@jupyter-widgets/base",
          "model_name": "LayoutModel",
          "model_module_version": "1.2.0",
          "state": {
            "_model_module": "@jupyter-widgets/base",
            "_model_module_version": "1.2.0",
            "_model_name": "LayoutModel",
            "_view_count": null,
            "_view_module": "@jupyter-widgets/base",
            "_view_module_version": "1.2.0",
            "_view_name": "LayoutView",
            "align_content": null,
            "align_items": null,
            "align_self": null,
            "border": null,
            "bottom": null,
            "display": null,
            "flex": null,
            "flex_flow": null,
            "grid_area": null,
            "grid_auto_columns": null,
            "grid_auto_flow": null,
            "grid_auto_rows": null,
            "grid_column": null,
            "grid_gap": null,
            "grid_row": null,
            "grid_template_areas": null,
            "grid_template_columns": null,
            "grid_template_rows": null,
            "height": null,
            "justify_content": null,
            "justify_items": null,
            "left": null,
            "margin": null,
            "max_height": null,
            "max_width": null,
            "min_height": null,
            "min_width": null,
            "object_fit": null,
            "object_position": null,
            "order": null,
            "overflow": null,
            "overflow_x": null,
            "overflow_y": null,
            "padding": null,
            "right": null,
            "top": null,
            "visibility": null,
            "width": null
          }
        },
        "79f2e1efd98c4f0891ef83efb0e9aae1": {
          "model_module": "@jupyter-widgets/controls",
          "model_name": "DescriptionStyleModel",
          "model_module_version": "1.5.0",
          "state": {
            "_model_module": "@jupyter-widgets/controls",
            "_model_module_version": "1.5.0",
            "_model_name": "DescriptionStyleModel",
            "_view_count": null,
            "_view_module": "@jupyter-widgets/base",
            "_view_module_version": "1.2.0",
            "_view_name": "StyleView",
            "description_width": ""
          }
        },
        "695bbe38953d4403a7048987ecd52ded": {
          "model_module": "@jupyter-widgets/controls",
          "model_name": "HBoxModel",
          "model_module_version": "1.5.0",
          "state": {
            "_dom_classes": [],
            "_model_module": "@jupyter-widgets/controls",
            "_model_module_version": "1.5.0",
            "_model_name": "HBoxModel",
            "_view_count": null,
            "_view_module": "@jupyter-widgets/controls",
            "_view_module_version": "1.5.0",
            "_view_name": "HBoxView",
            "box_style": "",
            "children": [
              "IPY_MODEL_d40bcfae1d7f4262b2a5a7ac1bfcfc97",
              "IPY_MODEL_6f0824fb8ec2426ab5cce6f6be076028",
              "IPY_MODEL_578e83b292634f65a534645153034681"
            ],
            "layout": "IPY_MODEL_d5e218eb03284e3991a855db440d9c4a"
          }
        },
        "d40bcfae1d7f4262b2a5a7ac1bfcfc97": {
          "model_module": "@jupyter-widgets/controls",
          "model_name": "HTMLModel",
          "model_module_version": "1.5.0",
          "state": {
            "_dom_classes": [],
            "_model_module": "@jupyter-widgets/controls",
            "_model_module_version": "1.5.0",
            "_model_name": "HTMLModel",
            "_view_count": null,
            "_view_module": "@jupyter-widgets/controls",
            "_view_module_version": "1.5.0",
            "_view_name": "HTMLView",
            "description": "",
            "description_tooltip": null,
            "layout": "IPY_MODEL_807f63d47c3b46a58508df1650643d43",
            "placeholder": "​",
            "style": "IPY_MODEL_097635ef69f244e2ae727e276c229f2e",
            "value": "100%"
          }
        },
        "6f0824fb8ec2426ab5cce6f6be076028": {
          "model_module": "@jupyter-widgets/controls",
          "model_name": "FloatProgressModel",
          "model_module_version": "1.5.0",
          "state": {
            "_dom_classes": [],
            "_model_module": "@jupyter-widgets/controls",
            "_model_module_version": "1.5.0",
            "_model_name": "FloatProgressModel",
            "_view_count": null,
            "_view_module": "@jupyter-widgets/controls",
            "_view_module_version": "1.5.0",
            "_view_name": "ProgressView",
            "bar_style": "success",
            "description": "",
            "description_tooltip": null,
            "layout": "IPY_MODEL_6ef30e71f06c4591aa5b21269a6532d6",
            "max": 68899,
            "min": 0,
            "orientation": "horizontal",
            "style": "IPY_MODEL_b96e0c3067fb46ffa303ebbea3616803",
            "value": 68899
          }
        },
        "578e83b292634f65a534645153034681": {
          "model_module": "@jupyter-widgets/controls",
          "model_name": "HTMLModel",
          "model_module_version": "1.5.0",
          "state": {
            "_dom_classes": [],
            "_model_module": "@jupyter-widgets/controls",
            "_model_module_version": "1.5.0",
            "_model_name": "HTMLModel",
            "_view_count": null,
            "_view_module": "@jupyter-widgets/controls",
            "_view_module_version": "1.5.0",
            "_view_name": "HTMLView",
            "description": "",
            "description_tooltip": null,
            "layout": "IPY_MODEL_bb594a8fd00045b9aaa4aacf2cc25027",
            "placeholder": "​",
            "style": "IPY_MODEL_9f2f946cc2ec42e2929fe0eb1b5a0655",
            "value": " 68.9k/68.9k [00:00&lt;00:00, 1.66MB/s]"
          }
        },
        "d5e218eb03284e3991a855db440d9c4a": {
          "model_module": "@jupyter-widgets/base",
          "model_name": "LayoutModel",
          "model_module_version": "1.2.0",
          "state": {
            "_model_module": "@jupyter-widgets/base",
            "_model_module_version": "1.2.0",
            "_model_name": "LayoutModel",
            "_view_count": null,
            "_view_module": "@jupyter-widgets/base",
            "_view_module_version": "1.2.0",
            "_view_name": "LayoutView",
            "align_content": null,
            "align_items": null,
            "align_self": null,
            "border": null,
            "bottom": null,
            "display": null,
            "flex": null,
            "flex_flow": null,
            "grid_area": null,
            "grid_auto_columns": null,
            "grid_auto_flow": null,
            "grid_auto_rows": null,
            "grid_column": null,
            "grid_gap": null,
            "grid_row": null,
            "grid_template_areas": null,
            "grid_template_columns": null,
            "grid_template_rows": null,
            "height": null,
            "justify_content": null,
            "justify_items": null,
            "left": null,
            "margin": null,
            "max_height": null,
            "max_width": null,
            "min_height": null,
            "min_width": null,
            "object_fit": null,
            "object_position": null,
            "order": null,
            "overflow": null,
            "overflow_x": null,
            "overflow_y": null,
            "padding": null,
            "right": null,
            "top": null,
            "visibility": null,
            "width": null
          }
        },
        "807f63d47c3b46a58508df1650643d43": {
          "model_module": "@jupyter-widgets/base",
          "model_name": "LayoutModel",
          "model_module_version": "1.2.0",
          "state": {
            "_model_module": "@jupyter-widgets/base",
            "_model_module_version": "1.2.0",
            "_model_name": "LayoutModel",
            "_view_count": null,
            "_view_module": "@jupyter-widgets/base",
            "_view_module_version": "1.2.0",
            "_view_name": "LayoutView",
            "align_content": null,
            "align_items": null,
            "align_self": null,
            "border": null,
            "bottom": null,
            "display": null,
            "flex": null,
            "flex_flow": null,
            "grid_area": null,
            "grid_auto_columns": null,
            "grid_auto_flow": null,
            "grid_auto_rows": null,
            "grid_column": null,
            "grid_gap": null,
            "grid_row": null,
            "grid_template_areas": null,
            "grid_template_columns": null,
            "grid_template_rows": null,
            "height": null,
            "justify_content": null,
            "justify_items": null,
            "left": null,
            "margin": null,
            "max_height": null,
            "max_width": null,
            "min_height": null,
            "min_width": null,
            "object_fit": null,
            "object_position": null,
            "order": null,
            "overflow": null,
            "overflow_x": null,
            "overflow_y": null,
            "padding": null,
            "right": null,
            "top": null,
            "visibility": null,
            "width": null
          }
        },
        "097635ef69f244e2ae727e276c229f2e": {
          "model_module": "@jupyter-widgets/controls",
          "model_name": "DescriptionStyleModel",
          "model_module_version": "1.5.0",
          "state": {
            "_model_module": "@jupyter-widgets/controls",
            "_model_module_version": "1.5.0",
            "_model_name": "DescriptionStyleModel",
            "_view_count": null,
            "_view_module": "@jupyter-widgets/base",
            "_view_module_version": "1.2.0",
            "_view_name": "StyleView",
            "description_width": ""
          }
        },
        "6ef30e71f06c4591aa5b21269a6532d6": {
          "model_module": "@jupyter-widgets/base",
          "model_name": "LayoutModel",
          "model_module_version": "1.2.0",
          "state": {
            "_model_module": "@jupyter-widgets/base",
            "_model_module_version": "1.2.0",
            "_model_name": "LayoutModel",
            "_view_count": null,
            "_view_module": "@jupyter-widgets/base",
            "_view_module_version": "1.2.0",
            "_view_name": "LayoutView",
            "align_content": null,
            "align_items": null,
            "align_self": null,
            "border": null,
            "bottom": null,
            "display": null,
            "flex": null,
            "flex_flow": null,
            "grid_area": null,
            "grid_auto_columns": null,
            "grid_auto_flow": null,
            "grid_auto_rows": null,
            "grid_column": null,
            "grid_gap": null,
            "grid_row": null,
            "grid_template_areas": null,
            "grid_template_columns": null,
            "grid_template_rows": null,
            "height": null,
            "justify_content": null,
            "justify_items": null,
            "left": null,
            "margin": null,
            "max_height": null,
            "max_width": null,
            "min_height": null,
            "min_width": null,
            "object_fit": null,
            "object_position": null,
            "order": null,
            "overflow": null,
            "overflow_x": null,
            "overflow_y": null,
            "padding": null,
            "right": null,
            "top": null,
            "visibility": null,
            "width": null
          }
        },
        "b96e0c3067fb46ffa303ebbea3616803": {
          "model_module": "@jupyter-widgets/controls",
          "model_name": "ProgressStyleModel",
          "model_module_version": "1.5.0",
          "state": {
            "_model_module": "@jupyter-widgets/controls",
            "_model_module_version": "1.5.0",
            "_model_name": "ProgressStyleModel",
            "_view_count": null,
            "_view_module": "@jupyter-widgets/base",
            "_view_module_version": "1.2.0",
            "_view_name": "StyleView",
            "bar_color": null,
            "description_width": ""
          }
        },
        "bb594a8fd00045b9aaa4aacf2cc25027": {
          "model_module": "@jupyter-widgets/base",
          "model_name": "LayoutModel",
          "model_module_version": "1.2.0",
          "state": {
            "_model_module": "@jupyter-widgets/base",
            "_model_module_version": "1.2.0",
            "_model_name": "LayoutModel",
            "_view_count": null,
            "_view_module": "@jupyter-widgets/base",
            "_view_module_version": "1.2.0",
            "_view_name": "LayoutView",
            "align_content": null,
            "align_items": null,
            "align_self": null,
            "border": null,
            "bottom": null,
            "display": null,
            "flex": null,
            "flex_flow": null,
            "grid_area": null,
            "grid_auto_columns": null,
            "grid_auto_flow": null,
            "grid_auto_rows": null,
            "grid_column": null,
            "grid_gap": null,
            "grid_row": null,
            "grid_template_areas": null,
            "grid_template_columns": null,
            "grid_template_rows": null,
            "height": null,
            "justify_content": null,
            "justify_items": null,
            "left": null,
            "margin": null,
            "max_height": null,
            "max_width": null,
            "min_height": null,
            "min_width": null,
            "object_fit": null,
            "object_position": null,
            "order": null,
            "overflow": null,
            "overflow_x": null,
            "overflow_y": null,
            "padding": null,
            "right": null,
            "top": null,
            "visibility": null,
            "width": null
          }
        },
        "9f2f946cc2ec42e2929fe0eb1b5a0655": {
          "model_module": "@jupyter-widgets/controls",
          "model_name": "DescriptionStyleModel",
          "model_module_version": "1.5.0",
          "state": {
            "_model_module": "@jupyter-widgets/controls",
            "_model_module_version": "1.5.0",
            "_model_name": "DescriptionStyleModel",
            "_view_count": null,
            "_view_module": "@jupyter-widgets/base",
            "_view_module_version": "1.2.0",
            "_view_name": "StyleView",
            "description_width": ""
          }
        }
      }
    }
  },
  "cells": [
    {
      "cell_type": "markdown",
      "metadata": {
        "id": "view-in-github",
        "colab_type": "text"
      },
      "source": [
        "<a href=\"https://colab.research.google.com/github/uss96/StudyGroup/blob/master/Project_%EC%98%81%ED%99%94%EB%A6%AC%EB%B7%B0_%EA%B0%90%EC%A0%95%EB%B6%84%EC%84%9D_(%EC%8B%A4%EC%8A%B5)%EC%9D%98_%EC%82%AC%EB%B3%B8.ipynb\" target=\"_parent\"><img src=\"https://colab.research.google.com/assets/colab-badge.svg\" alt=\"Open In Colab\"/></a>"
      ]
    },
    {
      "cell_type": "markdown",
      "metadata": {
        "id": "d-KYKjXI-cZj"
      },
      "source": [
        "## 환경설정"
      ]
    },
    {
      "cell_type": "code",
      "metadata": {
        "id": "QvBhB1tC-cZm"
      },
      "source": [
        "project_name = \"영화리뷰 감정 분석\" # 프로젝트 이름\n",
        "class_info = \"3차수 A반\" # 차수 정보\n",
        "email = \"uiseok@sk.com\" # 회사 이메일(본인의 회사 이메일 입력)"
      ],
      "execution_count": 1,
      "outputs": []
    },
    {
      "cell_type": "markdown",
      "metadata": {
        "id": "p2gDg1GQ-cZo"
      },
      "source": [
        "## 모듈 설치 및 데이터 다운로드"
      ]
    },
    {
      "cell_type": "code",
      "metadata": {
        "id": "OF1cNofU-cZo",
        "colab": {
          "base_uri": "https://localhost:8080/",
          "height": 311,
          "referenced_widgets": [
            "7dd85e3d7a1b45659359dfed9c692166",
            "df40400ee9c449f2ae60f9cb9caa794e",
            "87d73a947ab7412eaea99c03701704dc",
            "dda5111a60b94caaaf47139bb79eb076",
            "dc9db317a01241e2bc4aaf1d6e3132e6",
            "9da794557976419cb4546ab3867d3767",
            "fe9fe4004cfd4f159bf2dd34dbce25ae",
            "6edf018ff474486abb10eae489a1e934",
            "8a8443cdad9e4b618f603c07feaccf94",
            "a93ff157bfb1433583faf8a42f19b2fe",
            "056e16901b784192840c83531ebf361f",
            "0105f291faee4c57bfd4242bc256e4f7",
            "2eb0db20b7da420fae9212ff51cdeeb9",
            "3b48136e86db49a39e4cdf37ff4e51cc",
            "3bcefaa9476e4b87a09d4d2a90976d4f",
            "b7d090c9c9b84a33866a5378541023d7",
            "796f469b23574e9a83f7f9a96913373a",
            "e1884b7767344be3aa4d06f9505647ea",
            "addb659ddd4d460c84aafd25f736a21b",
            "9b567608ba674bd8a8cf3d553a06c7af",
            "28c896b3e44a47019ec70cb015e78acb",
            "79f2e1efd98c4f0891ef83efb0e9aae1",
            "695bbe38953d4403a7048987ecd52ded",
            "d40bcfae1d7f4262b2a5a7ac1bfcfc97",
            "6f0824fb8ec2426ab5cce6f6be076028",
            "578e83b292634f65a534645153034681",
            "d5e218eb03284e3991a855db440d9c4a",
            "807f63d47c3b46a58508df1650643d43",
            "097635ef69f244e2ae727e276c229f2e",
            "6ef30e71f06c4591aa5b21269a6532d6",
            "b96e0c3067fb46ffa303ebbea3616803",
            "bb594a8fd00045b9aaa4aacf2cc25027",
            "9f2f946cc2ec42e2929fe0eb1b5a0655"
          ]
        },
        "outputId": "58d1c27c-7a92-4c6d-ab7e-f1afe3a28df2"
      },
      "source": [
        "!pip install --upgrade mySUNI -q\n",
        "\n",
        "import mySUNI\n",
        "from mySUNI import cds, utils\n",
        "import urllib.request\n",
        "import zipfile\n",
        "\n",
        "\n",
        "project = cds.Project(project_name, class_info, email)\n",
        "project.edu_name = 'SUNI_딥러닝'\n",
        "\n",
        "# 이메일 설정 확인\n",
        "if not project.email:\n",
        "    raise print(\"[이메일이 누락되었습니다] 이메일을 설정해 주세요↑↑↑\")\n",
        "\n",
        "\n",
        "print('===' * 15)\n",
        "print(f'패키지버전: {mySUNI.__version__}')\n",
        "print('===' * 15)\n",
        "print(f'프로젝트명: {project_name}\\n차수 정보 : {class_info}\\n이  메  일: {email}')\n",
        "print('===' * 15)\n",
        "\n",
        "# 데이터셋 다운로드\n",
        "cds.download_project(project_name, class_info, email)"
      ],
      "execution_count": 2,
      "outputs": [
        {
          "output_type": "stream",
          "name": "stdout",
          "text": [
            "\n",
            "==============================\n",
            "프로젝트: 영화리뷰 감정 분석\n",
            "==============================\n",
            "파일 목록\n",
            "\n",
            "submission.csv\n",
            "- data/영화리뷰 감정 분석/submission.csv\n",
            "\n",
            "train.csv\n",
            "- data/영화리뷰 감정 분석/train.csv\n",
            "\n",
            "test.csv\n",
            "- data/영화리뷰 감정 분석/test.csv\n",
            "\n",
            "==============================\n"
          ]
        }
      ]
    },
    {
      "cell_type": "markdown",
      "metadata": {
        "id": "CE1OuGoF-cZp"
      },
      "source": [
        "## 필요한 모듈 import "
      ]
    },
    {
      "cell_type": "code",
      "metadata": {
        "id": "LbFFo4zNbGIS"
      },
      "source": [
        "import pandas as pd\n",
        "import numpy as np\n",
        "import matplotlib.pyplot as plt\n",
        "import seaborn as sns\n",
        "import warnings\n",
        "import os\n",
        "import tensorflow as tf\n",
        "\n",
        "\n",
        "pd.set_option('display.max_colwidth', None)\n",
        "\n",
        "# Data 경로 설정\n",
        "DATA_DIR = 'data'\n",
        "\n",
        "# 경고 무시\n",
        "warnings.filterwarnings('ignore')\n",
        "\n",
        "SEED=123\n",
        "np.random.seed(SEED)\n",
        "tf.random.set_seed(SEED)"
      ],
      "execution_count": 3,
      "outputs": []
    },
    {
      "cell_type": "markdown",
      "metadata": {
        "id": "MPrGs1om-cZq"
      },
      "source": [
        "## 데이터 로드"
      ]
    },
    {
      "cell_type": "markdown",
      "metadata": {
        "id": "ke1zrZQy-cZr"
      },
      "source": [
        "### 1. 데이터셋 로드"
      ]
    },
    {
      "cell_type": "code",
      "metadata": {
        "id": "KvmG2nhx-cZr"
      },
      "source": [
        "# train 데이터셋 로드 (train.csv)\n",
        "train = pd.read_csv(os.path.join(DATA_DIR, project_name, 'train.csv'))\n",
        "                                 \n",
        "# test 데이터셋 로드 (test.csv)\n",
        "test = pd.read_csv(os.path.join(DATA_DIR, project_name, 'test.csv'))"
      ],
      "execution_count": 4,
      "outputs": []
    },
    {
      "cell_type": "code",
      "metadata": {
        "id": "j18H86Eq-cZs",
        "colab": {
          "base_uri": "https://localhost:8080/",
          "height": 206
        },
        "outputId": "76702764-b303-49ee-dd0a-4b1c4091d78c"
      },
      "source": [
        "train.head()"
      ],
      "execution_count": 5,
      "outputs": [
        {
          "output_type": "execute_result",
          "data": {
            "text/plain": [
              "                                                                                                     document  \\\n",
              "0                                                                                       코미디 영화 네요 보면서 많이 웃었어요   \n",
              "1                                                                                   역시 일본인들의 일상현실생활이군 개막장국가답다   \n",
              "2                                                                                         완전 잼없고 내용도 없음. 보지마삼   \n",
              "3  왠만해선 좋게 봐주려고 했는데 내 와이파이가 이딴 쓰레기 영화를 보기 위해 한 몸 다 받쳐 다운로드를 했다는 것에 도저히 참을 수가 없다. 스토리도 작화도 연출도 이도저도 아닌 최악의 영화.   \n",
              "4                                                                                              멋져멋져..........   \n",
              "\n",
              "   label  \n",
              "0      1  \n",
              "1      1  \n",
              "2      0  \n",
              "3      0  \n",
              "4      1  "
            ],
            "text/html": [
              "\n",
              "  <div id=\"df-ea5e76dc-49a5-40f4-b688-59630485947c\">\n",
              "    <div class=\"colab-df-container\">\n",
              "      <div>\n",
              "<style scoped>\n",
              "    .dataframe tbody tr th:only-of-type {\n",
              "        vertical-align: middle;\n",
              "    }\n",
              "\n",
              "    .dataframe tbody tr th {\n",
              "        vertical-align: top;\n",
              "    }\n",
              "\n",
              "    .dataframe thead th {\n",
              "        text-align: right;\n",
              "    }\n",
              "</style>\n",
              "<table border=\"1\" class=\"dataframe\">\n",
              "  <thead>\n",
              "    <tr style=\"text-align: right;\">\n",
              "      <th></th>\n",
              "      <th>document</th>\n",
              "      <th>label</th>\n",
              "    </tr>\n",
              "  </thead>\n",
              "  <tbody>\n",
              "    <tr>\n",
              "      <th>0</th>\n",
              "      <td>코미디 영화 네요 보면서 많이 웃었어요</td>\n",
              "      <td>1</td>\n",
              "    </tr>\n",
              "    <tr>\n",
              "      <th>1</th>\n",
              "      <td>역시 일본인들의 일상현실생활이군 개막장국가답다</td>\n",
              "      <td>1</td>\n",
              "    </tr>\n",
              "    <tr>\n",
              "      <th>2</th>\n",
              "      <td>완전 잼없고 내용도 없음. 보지마삼</td>\n",
              "      <td>0</td>\n",
              "    </tr>\n",
              "    <tr>\n",
              "      <th>3</th>\n",
              "      <td>왠만해선 좋게 봐주려고 했는데 내 와이파이가 이딴 쓰레기 영화를 보기 위해 한 몸 다 받쳐 다운로드를 했다는 것에 도저히 참을 수가 없다. 스토리도 작화도 연출도 이도저도 아닌 최악의 영화.</td>\n",
              "      <td>0</td>\n",
              "    </tr>\n",
              "    <tr>\n",
              "      <th>4</th>\n",
              "      <td>멋져멋져..........</td>\n",
              "      <td>1</td>\n",
              "    </tr>\n",
              "  </tbody>\n",
              "</table>\n",
              "</div>\n",
              "      <button class=\"colab-df-convert\" onclick=\"convertToInteractive('df-ea5e76dc-49a5-40f4-b688-59630485947c')\"\n",
              "              title=\"Convert this dataframe to an interactive table.\"\n",
              "              style=\"display:none;\">\n",
              "        \n",
              "  <svg xmlns=\"http://www.w3.org/2000/svg\" height=\"24px\"viewBox=\"0 0 24 24\"\n",
              "       width=\"24px\">\n",
              "    <path d=\"M0 0h24v24H0V0z\" fill=\"none\"/>\n",
              "    <path d=\"M18.56 5.44l.94 2.06.94-2.06 2.06-.94-2.06-.94-.94-2.06-.94 2.06-2.06.94zm-11 1L8.5 8.5l.94-2.06 2.06-.94-2.06-.94L8.5 2.5l-.94 2.06-2.06.94zm10 10l.94 2.06.94-2.06 2.06-.94-2.06-.94-.94-2.06-.94 2.06-2.06.94z\"/><path d=\"M17.41 7.96l-1.37-1.37c-.4-.4-.92-.59-1.43-.59-.52 0-1.04.2-1.43.59L10.3 9.45l-7.72 7.72c-.78.78-.78 2.05 0 2.83L4 21.41c.39.39.9.59 1.41.59.51 0 1.02-.2 1.41-.59l7.78-7.78 2.81-2.81c.8-.78.8-2.07 0-2.86zM5.41 20L4 18.59l7.72-7.72 1.47 1.35L5.41 20z\"/>\n",
              "  </svg>\n",
              "      </button>\n",
              "      \n",
              "  <style>\n",
              "    .colab-df-container {\n",
              "      display:flex;\n",
              "      flex-wrap:wrap;\n",
              "      gap: 12px;\n",
              "    }\n",
              "\n",
              "    .colab-df-convert {\n",
              "      background-color: #E8F0FE;\n",
              "      border: none;\n",
              "      border-radius: 50%;\n",
              "      cursor: pointer;\n",
              "      display: none;\n",
              "      fill: #1967D2;\n",
              "      height: 32px;\n",
              "      padding: 0 0 0 0;\n",
              "      width: 32px;\n",
              "    }\n",
              "\n",
              "    .colab-df-convert:hover {\n",
              "      background-color: #E2EBFA;\n",
              "      box-shadow: 0px 1px 2px rgba(60, 64, 67, 0.3), 0px 1px 3px 1px rgba(60, 64, 67, 0.15);\n",
              "      fill: #174EA6;\n",
              "    }\n",
              "\n",
              "    [theme=dark] .colab-df-convert {\n",
              "      background-color: #3B4455;\n",
              "      fill: #D2E3FC;\n",
              "    }\n",
              "\n",
              "    [theme=dark] .colab-df-convert:hover {\n",
              "      background-color: #434B5C;\n",
              "      box-shadow: 0px 1px 3px 1px rgba(0, 0, 0, 0.15);\n",
              "      filter: drop-shadow(0px 1px 2px rgba(0, 0, 0, 0.3));\n",
              "      fill: #FFFFFF;\n",
              "    }\n",
              "  </style>\n",
              "\n",
              "      <script>\n",
              "        const buttonEl =\n",
              "          document.querySelector('#df-ea5e76dc-49a5-40f4-b688-59630485947c button.colab-df-convert');\n",
              "        buttonEl.style.display =\n",
              "          google.colab.kernel.accessAllowed ? 'block' : 'none';\n",
              "\n",
              "        async function convertToInteractive(key) {\n",
              "          const element = document.querySelector('#df-ea5e76dc-49a5-40f4-b688-59630485947c');\n",
              "          const dataTable =\n",
              "            await google.colab.kernel.invokeFunction('convertToInteractive',\n",
              "                                                     [key], {});\n",
              "          if (!dataTable) return;\n",
              "\n",
              "          const docLinkHtml = 'Like what you see? Visit the ' +\n",
              "            '<a target=\"_blank\" href=https://colab.research.google.com/notebooks/data_table.ipynb>data table notebook</a>'\n",
              "            + ' to learn more about interactive tables.';\n",
              "          element.innerHTML = '';\n",
              "          dataTable['output_type'] = 'display_data';\n",
              "          await google.colab.output.renderOutput(dataTable, element);\n",
              "          const docLink = document.createElement('div');\n",
              "          docLink.innerHTML = docLinkHtml;\n",
              "          element.appendChild(docLink);\n",
              "        }\n",
              "      </script>\n",
              "    </div>\n",
              "  </div>\n",
              "  "
            ]
          },
          "metadata": {},
          "execution_count": 5
        }
      ]
    },
    {
      "cell_type": "code",
      "metadata": {
        "id": "iIe2Qodk-cZs",
        "colab": {
          "base_uri": "https://localhost:8080/",
          "height": 206
        },
        "outputId": "7bc23419-d55b-437f-955e-55f09f62938d"
      },
      "source": [
        "test.head()"
      ],
      "execution_count": 6,
      "outputs": [
        {
          "output_type": "execute_result",
          "data": {
            "text/plain": [
              "                                                            document\n",
              "0                                       미야자키 아오이 전도연 닮았다고 생각되면 공감 눌러\n",
              "1   너무 감동적이에요..이거보고 하치가 주인이 죽인지도 모르고 늙어가며 추운곳에서 기다리는 모습이 너무 안타깝네요...\n",
              "2                                                     역시 빠순이의 점수 대단해\n",
              "3                                      슬픈사랑의 노래... 분위기가 인상적이었던 영화...\n",
              "4  학교에서 일어나는 내용이 좀 재미있을 뿐 너무 지루해서 끝까지 보기 힘든영화. 재밌는 소재를 갖고 이렇게 못만들다니."
            ],
            "text/html": [
              "\n",
              "  <div id=\"df-3d9da396-dfa8-42ea-a748-5192603eae79\">\n",
              "    <div class=\"colab-df-container\">\n",
              "      <div>\n",
              "<style scoped>\n",
              "    .dataframe tbody tr th:only-of-type {\n",
              "        vertical-align: middle;\n",
              "    }\n",
              "\n",
              "    .dataframe tbody tr th {\n",
              "        vertical-align: top;\n",
              "    }\n",
              "\n",
              "    .dataframe thead th {\n",
              "        text-align: right;\n",
              "    }\n",
              "</style>\n",
              "<table border=\"1\" class=\"dataframe\">\n",
              "  <thead>\n",
              "    <tr style=\"text-align: right;\">\n",
              "      <th></th>\n",
              "      <th>document</th>\n",
              "    </tr>\n",
              "  </thead>\n",
              "  <tbody>\n",
              "    <tr>\n",
              "      <th>0</th>\n",
              "      <td>미야자키 아오이 전도연 닮았다고 생각되면 공감 눌러</td>\n",
              "    </tr>\n",
              "    <tr>\n",
              "      <th>1</th>\n",
              "      <td>너무 감동적이에요..이거보고 하치가 주인이 죽인지도 모르고 늙어가며 추운곳에서 기다리는 모습이 너무 안타깝네요...</td>\n",
              "    </tr>\n",
              "    <tr>\n",
              "      <th>2</th>\n",
              "      <td>역시 빠순이의 점수 대단해</td>\n",
              "    </tr>\n",
              "    <tr>\n",
              "      <th>3</th>\n",
              "      <td>슬픈사랑의 노래... 분위기가 인상적이었던 영화...</td>\n",
              "    </tr>\n",
              "    <tr>\n",
              "      <th>4</th>\n",
              "      <td>학교에서 일어나는 내용이 좀 재미있을 뿐 너무 지루해서 끝까지 보기 힘든영화. 재밌는 소재를 갖고 이렇게 못만들다니.</td>\n",
              "    </tr>\n",
              "  </tbody>\n",
              "</table>\n",
              "</div>\n",
              "      <button class=\"colab-df-convert\" onclick=\"convertToInteractive('df-3d9da396-dfa8-42ea-a748-5192603eae79')\"\n",
              "              title=\"Convert this dataframe to an interactive table.\"\n",
              "              style=\"display:none;\">\n",
              "        \n",
              "  <svg xmlns=\"http://www.w3.org/2000/svg\" height=\"24px\"viewBox=\"0 0 24 24\"\n",
              "       width=\"24px\">\n",
              "    <path d=\"M0 0h24v24H0V0z\" fill=\"none\"/>\n",
              "    <path d=\"M18.56 5.44l.94 2.06.94-2.06 2.06-.94-2.06-.94-.94-2.06-.94 2.06-2.06.94zm-11 1L8.5 8.5l.94-2.06 2.06-.94-2.06-.94L8.5 2.5l-.94 2.06-2.06.94zm10 10l.94 2.06.94-2.06 2.06-.94-2.06-.94-.94-2.06-.94 2.06-2.06.94z\"/><path d=\"M17.41 7.96l-1.37-1.37c-.4-.4-.92-.59-1.43-.59-.52 0-1.04.2-1.43.59L10.3 9.45l-7.72 7.72c-.78.78-.78 2.05 0 2.83L4 21.41c.39.39.9.59 1.41.59.51 0 1.02-.2 1.41-.59l7.78-7.78 2.81-2.81c.8-.78.8-2.07 0-2.86zM5.41 20L4 18.59l7.72-7.72 1.47 1.35L5.41 20z\"/>\n",
              "  </svg>\n",
              "      </button>\n",
              "      \n",
              "  <style>\n",
              "    .colab-df-container {\n",
              "      display:flex;\n",
              "      flex-wrap:wrap;\n",
              "      gap: 12px;\n",
              "    }\n",
              "\n",
              "    .colab-df-convert {\n",
              "      background-color: #E8F0FE;\n",
              "      border: none;\n",
              "      border-radius: 50%;\n",
              "      cursor: pointer;\n",
              "      display: none;\n",
              "      fill: #1967D2;\n",
              "      height: 32px;\n",
              "      padding: 0 0 0 0;\n",
              "      width: 32px;\n",
              "    }\n",
              "\n",
              "    .colab-df-convert:hover {\n",
              "      background-color: #E2EBFA;\n",
              "      box-shadow: 0px 1px 2px rgba(60, 64, 67, 0.3), 0px 1px 3px 1px rgba(60, 64, 67, 0.15);\n",
              "      fill: #174EA6;\n",
              "    }\n",
              "\n",
              "    [theme=dark] .colab-df-convert {\n",
              "      background-color: #3B4455;\n",
              "      fill: #D2E3FC;\n",
              "    }\n",
              "\n",
              "    [theme=dark] .colab-df-convert:hover {\n",
              "      background-color: #434B5C;\n",
              "      box-shadow: 0px 1px 3px 1px rgba(0, 0, 0, 0.15);\n",
              "      filter: drop-shadow(0px 1px 2px rgba(0, 0, 0, 0.3));\n",
              "      fill: #FFFFFF;\n",
              "    }\n",
              "  </style>\n",
              "\n",
              "      <script>\n",
              "        const buttonEl =\n",
              "          document.querySelector('#df-3d9da396-dfa8-42ea-a748-5192603eae79 button.colab-df-convert');\n",
              "        buttonEl.style.display =\n",
              "          google.colab.kernel.accessAllowed ? 'block' : 'none';\n",
              "\n",
              "        async function convertToInteractive(key) {\n",
              "          const element = document.querySelector('#df-3d9da396-dfa8-42ea-a748-5192603eae79');\n",
              "          const dataTable =\n",
              "            await google.colab.kernel.invokeFunction('convertToInteractive',\n",
              "                                                     [key], {});\n",
              "          if (!dataTable) return;\n",
              "\n",
              "          const docLinkHtml = 'Like what you see? Visit the ' +\n",
              "            '<a target=\"_blank\" href=https://colab.research.google.com/notebooks/data_table.ipynb>data table notebook</a>'\n",
              "            + ' to learn more about interactive tables.';\n",
              "          element.innerHTML = '';\n",
              "          dataTable['output_type'] = 'display_data';\n",
              "          await google.colab.output.renderOutput(dataTable, element);\n",
              "          const docLink = document.createElement('div');\n",
              "          docLink.innerHTML = docLinkHtml;\n",
              "          element.appendChild(docLink);\n",
              "        }\n",
              "      </script>\n",
              "    </div>\n",
              "  </div>\n",
              "  "
            ]
          },
          "metadata": {},
          "execution_count": 6
        }
      ]
    },
    {
      "cell_type": "markdown",
      "metadata": {
        "id": "rv02iFHZ-cZs"
      },
      "source": [
        "### 한글 형태소 분석기 로드\n",
        "\n",
        "[도큐먼트 링크](https://konlpy.org/ko/latest/index.html)"
      ]
    },
    {
      "cell_type": "markdown",
      "metadata": {
        "id": "R0loMGM2-cZs"
      },
      "source": [
        "아래 Cell을 실행하여 설치"
      ]
    },
    {
      "cell_type": "code",
      "metadata": {
        "id": "_AKqIZeT-cZt",
        "colab": {
          "base_uri": "https://localhost:8080/"
        },
        "outputId": "ed040c08-36f6-4d6e-992b-0af7dcc07802"
      },
      "source": [
        "!pip install konlpy"
      ],
      "execution_count": 7,
      "outputs": [
        {
          "output_type": "stream",
          "name": "stdout",
          "text": [
            "Looking in indexes: https://pypi.org/simple, https://us-python.pkg.dev/colab-wheels/public/simple/\n",
            "Collecting konlpy\n",
            "  Downloading konlpy-0.6.0-py2.py3-none-any.whl (19.4 MB)\n",
            "\u001b[K     |████████████████████████████████| 19.4 MB 1.4 MB/s \n",
            "\u001b[?25hRequirement already satisfied: lxml>=4.1.0 in /usr/local/lib/python3.7/dist-packages (from konlpy) (4.9.1)\n",
            "Collecting JPype1>=0.7.0\n",
            "  Downloading JPype1-1.4.0-cp37-cp37m-manylinux_2_5_x86_64.manylinux1_x86_64.whl (453 kB)\n",
            "\u001b[K     |████████████████████████████████| 453 kB 70.2 MB/s \n",
            "\u001b[?25hRequirement already satisfied: numpy>=1.6 in /usr/local/lib/python3.7/dist-packages (from konlpy) (1.21.6)\n",
            "Requirement already satisfied: typing-extensions in /usr/local/lib/python3.7/dist-packages (from JPype1>=0.7.0->konlpy) (4.1.1)\n",
            "Installing collected packages: JPype1, konlpy\n",
            "Successfully installed JPype1-1.4.0 konlpy-0.6.0\n"
          ]
        }
      ]
    },
    {
      "cell_type": "code",
      "metadata": {
        "id": "stJEf0SW-cZt"
      },
      "source": [
        "from konlpy.tag import Okt\n",
        "\n",
        "# 형태소 분석기 로드\n",
        "okt = Okt()"
      ],
      "execution_count": 8,
      "outputs": []
    },
    {
      "cell_type": "code",
      "metadata": {
        "id": "XWf_sWGy-cZt",
        "colab": {
          "base_uri": "https://localhost:8080/"
        },
        "outputId": "7e94570c-b203-4996-8690-a93a37bf8ecf"
      },
      "source": [
        "# morphs 적용시\n",
        "okt.morphs('안녕하세요? 반갑습니다. 저는 파이썬을 사랑합니다')"
      ],
      "execution_count": 9,
      "outputs": [
        {
          "output_type": "execute_result",
          "data": {
            "text/plain": [
              "['안녕하세요', '?', '반갑습니다', '.', '저', '는', '파이썬', '을', '사랑', '합니다']"
            ]
          },
          "metadata": {},
          "execution_count": 9
        }
      ]
    },
    {
      "cell_type": "code",
      "source": [
        "# pos 적용시\n",
        "okt.pos('안녕하세요? 반갑습니다. 저는 파이썬을 사랑합니다')"
      ],
      "metadata": {
        "id": "Dcqj4mxDqxLv",
        "colab": {
          "base_uri": "https://localhost:8080/"
        },
        "outputId": "ac727680-7c41-4425-decc-8a8e297cc79a"
      },
      "execution_count": 10,
      "outputs": [
        {
          "output_type": "execute_result",
          "data": {
            "text/plain": [
              "[('안녕하세요', 'Adjective'),\n",
              " ('?', 'Punctuation'),\n",
              " ('반갑습니다', 'Adjective'),\n",
              " ('.', 'Punctuation'),\n",
              " ('저', 'Noun'),\n",
              " ('는', 'Josa'),\n",
              " ('파이썬', 'Noun'),\n",
              " ('을', 'Josa'),\n",
              " ('사랑', 'Noun'),\n",
              " ('합니다', 'Verb')]"
            ]
          },
          "metadata": {},
          "execution_count": 10
        }
      ]
    },
    {
      "cell_type": "code",
      "source": [
        "# 명사만 추출시\n",
        "[word for word, tag in okt.pos('안녕하세요? 반갑습니다. 저는 파이썬을 사랑합니다') if tag == 'Noun']"
      ],
      "metadata": {
        "id": "c3-EPh86ro7v",
        "colab": {
          "base_uri": "https://localhost:8080/"
        },
        "outputId": "32723e22-9453-4afc-e0ac-4d1cef6d53ab"
      },
      "execution_count": 11,
      "outputs": [
        {
          "output_type": "execute_result",
          "data": {
            "text/plain": [
              "['저', '파이썬', '사랑']"
            ]
          },
          "metadata": {},
          "execution_count": 11
        }
      ]
    },
    {
      "cell_type": "code",
      "source": [
        "# 조사는 제외시\n",
        "[word for word, tag in okt.pos('안녕하세요? 반갑습니다. 저는 파이썬을 사랑합니다') if tag != 'Josa']"
      ],
      "metadata": {
        "id": "dgT9mZa1r2Qo",
        "colab": {
          "base_uri": "https://localhost:8080/"
        },
        "outputId": "6d615f85-c208-40e6-e697-7bff511cc03a"
      },
      "execution_count": 12,
      "outputs": [
        {
          "output_type": "execute_result",
          "data": {
            "text/plain": [
              "['안녕하세요', '?', '반갑습니다', '.', '저', '파이썬', '사랑', '합니다']"
            ]
          },
          "metadata": {},
          "execution_count": 12
        }
      ]
    },
    {
      "cell_type": "code",
      "source": [
        "# 조사, 기호는 제외시\n",
        "[word for word, tag in okt.pos('안녕하세요? 반갑습니다. 저는 파이썬을 사랑합니다') if not tag in ['Josa', 'Punctuation']]"
      ],
      "metadata": {
        "id": "JLe7TI-5r9j3",
        "colab": {
          "base_uri": "https://localhost:8080/"
        },
        "outputId": "ea7489d8-e00f-4585-cf0f-64b6f251c595"
      },
      "execution_count": null,
      "outputs": [
        {
          "output_type": "execute_result",
          "data": {
            "text/plain": [
              "['안녕하세요', '반갑습니다', '저', '파이썬', '사랑', '합니다']"
            ]
          },
          "metadata": {},
          "execution_count": 115
        }
      ]
    },
    {
      "cell_type": "code",
      "source": [
        "# 한글, 영어, 숫자만 추출시\n",
        "import re\n",
        "\n",
        "sample = \"abcdefㄱㄴㄷㄹㅁㅂ가나다라마바사12345[]{}().,!?'`~;:\"\n",
        "\n",
        "re.sub('[^A-Za-z0-9가-힣]', '', sample)"
      ],
      "metadata": {
        "id": "nn3WYlkWsL3X",
        "colab": {
          "base_uri": "https://localhost:8080/",
          "height": 35
        },
        "outputId": "11e50bd4-884a-46c1-ca42-b3b960627e69"
      },
      "execution_count": null,
      "outputs": [
        {
          "output_type": "execute_result",
          "data": {
            "text/plain": [
              "'abcdef가나다라마바사12345'"
            ],
            "application/vnd.google.colaboratory.intrinsic+json": {
              "type": "string"
            }
          },
          "metadata": {},
          "execution_count": 13
        }
      ]
    },
    {
      "cell_type": "code",
      "source": [
        "s = ['안녕하세요', '반갑습니다.', '저', '파이썬']\n",
        "stopwords = ['파이썬', '안녕하세요'] # 특정 문장 제거\n",
        "\n",
        "[w for w in s if w not in stopwords]"
      ],
      "metadata": {
        "colab": {
          "base_uri": "https://localhost:8080/"
        },
        "id": "rUPk3WCwjCZq",
        "outputId": "888fb646-29ef-4a92-d9e8-915660b3d014"
      },
      "execution_count": null,
      "outputs": [
        {
          "output_type": "execute_result",
          "data": {
            "text/plain": [
              "['반갑습니다.', '저']"
            ]
          },
          "metadata": {},
          "execution_count": 117
        }
      ]
    },
    {
      "cell_type": "markdown",
      "metadata": {
        "id": "oeuroAII-cZt"
      },
      "source": [
        "### 전처리 함수 형태로 생성"
      ]
    },
    {
      "cell_type": "code",
      "metadata": {
        "id": "jsLzdH3C-cZu"
      },
      "source": [
        "stopword = ['영화', '들', '이', '적', '점']\n",
        "\n",
        "def preprocessing(x):\n",
        "    # 형태소 분석기\n",
        "    x = [word for word, tag in okt.pos(x) if not tag in ['Josa', 'Punctuation']]\n",
        "    x = [w for w in x if w not in stopword]\n",
        "    # 기타 문장 전처리기 코드\n",
        "    # 코드 입력\n",
        "    \n",
        "    return ' '.join(x)"
      ],
      "execution_count": 13,
      "outputs": []
    },
    {
      "cell_type": "markdown",
      "metadata": {
        "id": "8pWXfuQ_-cZu"
      },
      "source": [
        "### 전처리기 apply"
      ]
    },
    {
      "cell_type": "code",
      "source": [
        "train['document'].iloc[:20].apply(preprocessing) #일부만 적용시켜서 간 보기"
      ],
      "metadata": {
        "colab": {
          "base_uri": "https://localhost:8080/"
        },
        "id": "BR4kdUyhjYS6",
        "outputId": "e8c433f3-daf5-4b35-c1a6-d240d985ba8f"
      },
      "execution_count": 14,
      "outputs": [
        {
          "output_type": "execute_result",
          "data": {
            "text/plain": [
              "0                                                                                코미디 네요 보면서 많이 웃었어요\n",
              "1                                                                    역시 일본인 일상 현 실생활 이군 개막 장 국가 답 다\n",
              "2                                                                               완전 잼 없고 내용 없음 보지마 삼\n",
              "3     왠만해 선 좋게 봐주려고 했는데 내 와이파이 이딴 쓰레기 보기 위해 한 몸 다 받쳐 다운로드 했다는 것 도저히 참을 수가 없다 스토리 작화 연출 이도 저 도 아닌 최악\n",
              "4                                                                                             멋져 멋져\n",
              "5                                                                                    단 한마디 평가 하겠다 잼\n",
              "6                                                                                         스물 다가는 시간\n",
              "7                                                                                  완전 재미없음 반전 무슨 반전\n",
              "8                                                                          cg 없이 한순간 질린 장면 없 엇 던 sf\n",
              "9                                                                        파라 노말 엑 티비 티 줄 알았던데 잘못 알았다\n",
              "10                                                                                            따듯 해지\n",
              "11                                                                                 나 소비 한다 고로 존재 한다\n",
              "12                                                                           너무 너무 훌륭 많은것을 생각 하게 하는\n",
              "13                                                                               B 급 재미 같은 소리 하고 있네\n",
              "14                                        92년 도인가 93년 도인가 sbs 보여준건데 지금 가끔 생각 난다 20년 더 됐구나 그만큼 재미있었다\n",
              "15                                        사람 위 군림 하 정권 인권 뭔 지 모르는 인간 10년 훨 지난 일이 이건 우리 현실 말 하는 것 같다\n",
              "16                                                                   이건 뭐 예측 가능한 결말 지루합니다 보지 마세요 비추\n",
              "17                                                                                   쓸대 없는 장면 너무 길다\n",
              "18                                                    재밌게 봤다 하지만 청소년 폭력 날로 느는 지 금시 대 절대 방영금지 시켜 야한다\n",
              "19                                                                             한번 쯤 보면서 생각 잠겨 봐 야하는\n",
              "Name: document, dtype: object"
            ]
          },
          "metadata": {},
          "execution_count": 14
        }
      ]
    },
    {
      "cell_type": "code",
      "metadata": {
        "id": "U5-x32NO-cZu"
      },
      "source": [
        "train_sentences = train['document'].apply(preprocessing)\n",
        "test_sentences = test['document'].apply(preprocessing)"
      ],
      "execution_count": 15,
      "outputs": []
    },
    {
      "cell_type": "markdown",
      "metadata": {
        "id": "zCp5DaKY-cZu"
      },
      "source": [
        "### 데이터셋 분할"
      ]
    },
    {
      "cell_type": "code",
      "metadata": {
        "id": "ZyIjJdmS-cZu"
      },
      "source": [
        "from sklearn.model_selection import train_test_split\n",
        "\n",
        "SEED = 123\n",
        "\n",
        "x_train, x_test, y_train, y_test = train_test_split(train_sentences, train['label'], \n",
        "                                                                            stratify=train['label'],\n",
        "                                                                            test_size = 0.2, \n",
        "                                                                            random_state = SEED)"
      ],
      "execution_count": 16,
      "outputs": []
    },
    {
      "cell_type": "code",
      "source": [
        "x_train.shape, x_test.shape"
      ],
      "metadata": {
        "colab": {
          "base_uri": "https://localhost:8080/"
        },
        "id": "rj7Ruy5mtKNE",
        "outputId": "6a46613c-15ee-43d0-ff41-df029a870db1"
      },
      "execution_count": 17,
      "outputs": [
        {
          "output_type": "execute_result",
          "data": {
            "text/plain": [
              "((8000,), (2000,))"
            ]
          },
          "metadata": {},
          "execution_count": 17
        }
      ]
    },
    {
      "cell_type": "markdown",
      "metadata": {
        "id": "VPcHBamx-cZv"
      },
      "source": [
        "### tensorflow 관련 모듈 import "
      ]
    },
    {
      "cell_type": "code",
      "metadata": {
        "id": "HbCW5bto-cZv"
      },
      "source": [
        "# Module Import\n",
        "from tensorflow.keras.preprocessing.text import Tokenizer\n",
        "from tensorflow.keras.preprocessing.sequence import pad_sequences\n",
        "from tensorflow.keras.layers import Embedding, LSTM, Dense, Bidirectional, Flatten, Dropout\n",
        "from tensorflow.keras.models import Sequential\n",
        "from tensorflow.keras.callbacks import ModelCheckpoint\n",
        "\n"
      ],
      "execution_count": 62,
      "outputs": []
    },
    {
      "cell_type": "markdown",
      "metadata": {
        "id": "NVmA5TXi-cZv"
      },
      "source": [
        "### 단어 사전 정의"
      ]
    },
    {
      "cell_type": "code",
      "metadata": {
        "id": "5Ev_eaxb-cZv"
      },
      "source": [
        "# 단어사전의 개수, OOV 토큰 지정\n",
        "vocab_size = 10000 # 코드입력\n",
        "oov_token = \"<00V>\" # 코드입력"
      ],
      "execution_count": 63,
      "outputs": []
    },
    {
      "cell_type": "code",
      "metadata": {
        "id": "_FcxkYVJ-cZv"
      },
      "source": [
        "tokenizer = Tokenizer(num_words=vocab_size, oov_token='<OOV>') # 코드입력"
      ],
      "execution_count": 64,
      "outputs": []
    },
    {
      "cell_type": "code",
      "metadata": {
        "id": "5StDsq7Z-cZv"
      },
      "source": [
        "# 단어사전 생성\n",
        "tokenizer.fit_on_texts(x_train)# 코드입력"
      ],
      "execution_count": 65,
      "outputs": []
    },
    {
      "cell_type": "code",
      "source": [
        "for key, value in tokenizer.word_index.items():\n",
        "    print('{}  \\t======>\\t {}'.format(key, value))\n",
        "    if value == 25:\n",
        "        break"
      ],
      "metadata": {
        "colab": {
          "base_uri": "https://localhost:8080/"
        },
        "id": "c0iEiD6oulbc",
        "outputId": "3e580cbe-7804-414d-de33-781a4f61e9cd"
      },
      "execution_count": 66,
      "outputs": [
        {
          "output_type": "stream",
          "name": "stdout",
          "text": [
            "<OOV>  \t======>\t 1\n",
            "너무  \t======>\t 2\n",
            "정말  \t======>\t 3\n",
            "진짜  \t======>\t 4\n",
            "것  \t======>\t 5\n",
            "그  \t======>\t 6\n",
            "내  \t======>\t 7\n",
            "평점  \t======>\t 8\n",
            "생각  \t======>\t 9\n",
            "잘  \t======>\t 10\n",
            "연기  \t======>\t 11\n",
            "스토리  \t======>\t 12\n",
            "최고  \t======>\t 13\n",
            "이런  \t======>\t 14\n",
            "왜  \t======>\t 15\n",
            "안  \t======>\t 16\n",
            "하는  \t======>\t 17\n",
            "보고  \t======>\t 18\n",
            "한  \t======>\t 19\n",
            "감동  \t======>\t 20\n",
            "드라마  \t======>\t 21\n",
            "말  \t======>\t 22\n",
            "때  \t======>\t 23\n",
            "다  \t======>\t 24\n",
            "사람  \t======>\t 25\n"
          ]
        }
      ]
    },
    {
      "cell_type": "code",
      "source": [
        "len(tokenizer.word_index)"
      ],
      "metadata": {
        "colab": {
          "base_uri": "https://localhost:8080/"
        },
        "id": "TvzsuJHbup_e",
        "outputId": "4f4ba8e0-e397-400b-eaa6-65709354403d"
      },
      "execution_count": 67,
      "outputs": [
        {
          "output_type": "execute_result",
          "data": {
            "text/plain": [
              "19553"
            ]
          },
          "metadata": {},
          "execution_count": 67
        }
      ]
    },
    {
      "cell_type": "code",
      "source": [
        "word_index = tokenizer.word_index"
      ],
      "metadata": {
        "id": "ASZJiPyZur0W"
      },
      "execution_count": 68,
      "outputs": []
    },
    {
      "cell_type": "markdown",
      "metadata": {
        "id": "iXPvVeUS-cZw"
      },
      "source": [
        "### 시퀀스 변환"
      ]
    },
    {
      "cell_type": "code",
      "metadata": {
        "id": "497rAR9B-cZw"
      },
      "source": [
        "# 분할한 x_train, x_test 시퀀스 변환\n",
        "x_train_sequences = tokenizer.texts_to_sequences(x_train)\n",
        "x_test_sequences = tokenizer.texts_to_sequences(x_test)\n",
        "\n",
        "# test 데이터셋 변환\n",
        "test_sequences = tokenizer.texts_to_sequences(test_sentences)"
      ],
      "execution_count": 69,
      "outputs": []
    },
    {
      "cell_type": "code",
      "metadata": {
        "id": "uPZ0IvIr-cZw"
      },
      "source": [
        "# 한 문장의 최대 단어 숫자\n",
        "max_length = 40 # 코드입력\n",
        "\n",
        "# 잘라낼 문장의 위치\n",
        "trunc_type = 'post' # 코드입력\n",
        "\n",
        "# 채워줄 문장의 위치\n",
        "padding_type = 'post' # 코드입력"
      ],
      "execution_count": 70,
      "outputs": []
    },
    {
      "cell_type": "markdown",
      "metadata": {
        "id": "4PINCaZ7-cZw"
      },
      "source": [
        "### padding 적용"
      ]
    },
    {
      "cell_type": "code",
      "metadata": {
        "id": "blVTQVux-cZw"
      },
      "source": [
        "x_train_padded = pad_sequences(x_train_sequences, maxlen=max_length, truncating=trunc_type, padding=padding_type) # 코드입력\n",
        "x_test_padded = pad_sequences(x_test_sequences, maxlen=max_length, truncating=trunc_type, padding=padding_type)# 코드입력\n",
        "test_padded = pad_sequences(test_sequences, maxlen=max_length, truncating=trunc_type, padding=padding_type)# 코드입력"
      ],
      "execution_count": 71,
      "outputs": []
    },
    {
      "cell_type": "code",
      "source": [
        "train_labels = np.array(y_train)\n",
        "test_labels = np.array(y_test)"
      ],
      "metadata": {
        "id": "PXtVTcbVyzC3"
      },
      "execution_count": 72,
      "outputs": []
    },
    {
      "cell_type": "code",
      "source": [
        "embedding_dim = 16"
      ],
      "metadata": {
        "id": "acpBUaoTzBby"
      },
      "execution_count": 73,
      "outputs": []
    },
    {
      "cell_type": "markdown",
      "metadata": {
        "id": "btm2-uY0-cZw"
      },
      "source": [
        "### 모델 생성"
      ]
    },
    {
      "cell_type": "code",
      "metadata": {
        "id": "uuzhuxqo-cZw"
      },
      "source": [
        "model = Sequential([\n",
        "    Embedding(vocab_size, embedding_dim, input_length=max_length),\n",
        "    Bidirectional(LSTM(64, return_sequences=True)),\n",
        "    Bidirectional(LSTM(64, return_sequences=True)),\n",
        "    Bidirectional(LSTM(64)),\n",
        "    Dense(32, activation='relu'),\n",
        "    Dense(32, activation='relu'),\n",
        "    Dense(16, activation='relu'),\n",
        "    Dense(16, activation='relu'),\n",
        "    Dropout(0.5),\n",
        "    Dense(1, activation='sigmoid')\n",
        "])"
      ],
      "execution_count": 74,
      "outputs": []
    },
    {
      "cell_type": "markdown",
      "metadata": {
        "id": "UIakOf5x-cZx"
      },
      "source": [
        "### 모델 요약"
      ]
    },
    {
      "cell_type": "code",
      "metadata": {
        "id": "8uBR9h9P-cZx",
        "colab": {
          "base_uri": "https://localhost:8080/"
        },
        "outputId": "b5c80899-9b21-4518-e53d-c8d4b9d594a6"
      },
      "source": [
        "model.summary()"
      ],
      "execution_count": 75,
      "outputs": [
        {
          "output_type": "stream",
          "name": "stdout",
          "text": [
            "Model: \"sequential_4\"\n",
            "_________________________________________________________________\n",
            " Layer (type)                Output Shape              Param #   \n",
            "=================================================================\n",
            " embedding_5 (Embedding)     (None, 40, 16)            160000    \n",
            "                                                                 \n",
            " bidirectional_16 (Bidirecti  (None, 40, 128)          41472     \n",
            " onal)                                                           \n",
            "                                                                 \n",
            " bidirectional_17 (Bidirecti  (None, 40, 128)          98816     \n",
            " onal)                                                           \n",
            "                                                                 \n",
            " bidirectional_18 (Bidirecti  (None, 128)              98816     \n",
            " onal)                                                           \n",
            "                                                                 \n",
            " dense_19 (Dense)            (None, 32)                4128      \n",
            "                                                                 \n",
            " dense_20 (Dense)            (None, 32)                1056      \n",
            "                                                                 \n",
            " dense_21 (Dense)            (None, 16)                528       \n",
            "                                                                 \n",
            " dense_22 (Dense)            (None, 16)                272       \n",
            "                                                                 \n",
            " dropout (Dropout)           (None, 16)                0         \n",
            "                                                                 \n",
            " dense_23 (Dense)            (None, 1)                 17        \n",
            "                                                                 \n",
            "=================================================================\n",
            "Total params: 405,105\n",
            "Trainable params: 405,105\n",
            "Non-trainable params: 0\n",
            "_________________________________________________________________\n"
          ]
        }
      ]
    },
    {
      "cell_type": "markdown",
      "metadata": {
        "id": "W44oJkR7-cZx"
      },
      "source": [
        "### 모델 컴파일"
      ]
    },
    {
      "cell_type": "code",
      "metadata": {
        "id": "xdfMmmaP-cZx"
      },
      "source": [
        "optimizer = tf.keras.optimizers.Adam(learning_rate=0.0004)\n",
        " \n",
        " #코드입력\n",
        "model.compile(optimizer, loss='binary_crossentropy', metrics=['acc'])"
      ],
      "execution_count": 82,
      "outputs": []
    },
    {
      "cell_type": "markdown",
      "metadata": {
        "id": "W0QpR3qd-cZx"
      },
      "source": [
        "### 체크포인트 생성"
      ]
    },
    {
      "cell_type": "code",
      "metadata": {
        "id": "FWSS0tRv-cZx"
      },
      "source": [
        "checkpoint_path = 'my_checkpoint.ckpt'\n",
        "checkpoint = ModelCheckpoint(checkpoint_path, \n",
        "                             save_weights_only=True, \n",
        "                             save_best_only=True, \n",
        "                             monitor='val_loss',\n",
        "                             verbose=1)"
      ],
      "execution_count": 83,
      "outputs": []
    },
    {
      "cell_type": "markdown",
      "metadata": {
        "id": "pAUbfqKq-cZy"
      },
      "source": [
        "### 학습"
      ]
    },
    {
      "cell_type": "code",
      "metadata": {
        "id": "2UEfu05S-cZy",
        "colab": {
          "base_uri": "https://localhost:8080/"
        },
        "outputId": "4e2d2381-a0b2-4b02-e930-70583645e72e"
      },
      "source": [
        "# 코드입력\n",
        "model.fit(x_train_padded, train_labels, \n",
        "          validation_data=(x_test_padded, test_labels),\n",
        "          callbacks=[checkpoint],\n",
        "          epochs=20)"
      ],
      "execution_count": 84,
      "outputs": [
        {
          "output_type": "stream",
          "name": "stdout",
          "text": [
            "Epoch 1/20\n",
            "249/250 [============================>.] - ETA: 0s - loss: 0.3533 - acc: 0.8431\n",
            "Epoch 1: val_loss improved from inf to 0.48649, saving model to my_checkpoint.ckpt\n",
            "250/250 [==============================] - 25s 46ms/step - loss: 0.3528 - acc: 0.8434 - val_loss: 0.4865 - val_acc: 0.7840\n",
            "Epoch 2/20\n",
            "247/250 [============================>.] - ETA: 0s - loss: 0.2684 - acc: 0.8992\n",
            "Epoch 2: val_loss did not improve from 0.48649\n",
            "250/250 [==============================] - 4s 18ms/step - loss: 0.2671 - acc: 0.8999 - val_loss: 0.5284 - val_acc: 0.7905\n",
            "Epoch 3/20\n",
            "250/250 [==============================] - ETA: 0s - loss: 0.2061 - acc: 0.9345\n",
            "Epoch 3: val_loss did not improve from 0.48649\n",
            "250/250 [==============================] - 4s 18ms/step - loss: 0.2061 - acc: 0.9345 - val_loss: 0.4950 - val_acc: 0.7810\n",
            "Epoch 4/20\n",
            "250/250 [==============================] - ETA: 0s - loss: 0.1633 - acc: 0.9510\n",
            "Epoch 4: val_loss did not improve from 0.48649\n",
            "250/250 [==============================] - 4s 18ms/step - loss: 0.1633 - acc: 0.9510 - val_loss: 0.8941 - val_acc: 0.7810\n",
            "Epoch 5/20\n",
            "250/250 [==============================] - ETA: 0s - loss: 0.1268 - acc: 0.9668\n",
            "Epoch 5: val_loss did not improve from 0.48649\n",
            "250/250 [==============================] - 4s 18ms/step - loss: 0.1268 - acc: 0.9668 - val_loss: 0.7586 - val_acc: 0.7510\n",
            "Epoch 6/20\n",
            "249/250 [============================>.] - ETA: 0s - loss: 0.1154 - acc: 0.9704\n",
            "Epoch 6: val_loss did not improve from 0.48649\n",
            "250/250 [==============================] - 5s 21ms/step - loss: 0.1155 - acc: 0.9704 - val_loss: 0.9456 - val_acc: 0.7690\n",
            "Epoch 7/20\n",
            "247/250 [============================>.] - ETA: 0s - loss: 0.1024 - acc: 0.9737\n",
            "Epoch 7: val_loss did not improve from 0.48649\n",
            "250/250 [==============================] - 5s 18ms/step - loss: 0.1021 - acc: 0.9736 - val_loss: 0.7793 - val_acc: 0.7645\n",
            "Epoch 8/20\n",
            "249/250 [============================>.] - ETA: 0s - loss: 0.1203 - acc: 0.9676\n",
            "Epoch 8: val_loss did not improve from 0.48649\n",
            "250/250 [==============================] - 5s 21ms/step - loss: 0.1202 - acc: 0.9678 - val_loss: 0.8623 - val_acc: 0.7630\n",
            "Epoch 9/20\n",
            "250/250 [==============================] - ETA: 0s - loss: 0.0855 - acc: 0.9790\n",
            "Epoch 9: val_loss did not improve from 0.48649\n",
            "250/250 [==============================] - 4s 18ms/step - loss: 0.0855 - acc: 0.9790 - val_loss: 0.9506 - val_acc: 0.7705\n",
            "Epoch 10/20\n",
            "250/250 [==============================] - ETA: 0s - loss: 0.0997 - acc: 0.9720\n",
            "Epoch 10: val_loss did not improve from 0.48649\n",
            "250/250 [==============================] - 5s 20ms/step - loss: 0.0997 - acc: 0.9720 - val_loss: 1.1201 - val_acc: 0.7440\n",
            "Epoch 11/20\n",
            "248/250 [============================>.] - ETA: 0s - loss: 0.0753 - acc: 0.9800\n",
            "Epoch 11: val_loss did not improve from 0.48649\n",
            "250/250 [==============================] - 4s 18ms/step - loss: 0.0755 - acc: 0.9797 - val_loss: 1.3846 - val_acc: 0.7615\n",
            "Epoch 12/20\n",
            "250/250 [==============================] - ETA: 0s - loss: 0.0675 - acc: 0.9851\n",
            "Epoch 12: val_loss did not improve from 0.48649\n",
            "250/250 [==============================] - 4s 18ms/step - loss: 0.0675 - acc: 0.9851 - val_loss: 1.3958 - val_acc: 0.7680\n",
            "Epoch 13/20\n",
            "248/250 [============================>.] - ETA: 0s - loss: 0.0571 - acc: 0.9868\n",
            "Epoch 13: val_loss did not improve from 0.48649\n",
            "250/250 [==============================] - 4s 18ms/step - loss: 0.0575 - acc: 0.9865 - val_loss: 1.5704 - val_acc: 0.7635\n",
            "Epoch 14/20\n",
            "248/250 [============================>.] - ETA: 0s - loss: 0.0536 - acc: 0.9861\n",
            "Epoch 14: val_loss did not improve from 0.48649\n",
            "250/250 [==============================] - 4s 18ms/step - loss: 0.0536 - acc: 0.9862 - val_loss: 1.5753 - val_acc: 0.7525\n",
            "Epoch 15/20\n",
            "247/250 [============================>.] - ETA: 0s - loss: 0.0540 - acc: 0.9853\n",
            "Epoch 15: val_loss did not improve from 0.48649\n",
            "250/250 [==============================] - 4s 18ms/step - loss: 0.0536 - acc: 0.9855 - val_loss: 1.5053 - val_acc: 0.7545\n",
            "Epoch 16/20\n",
            "249/250 [============================>.] - ETA: 0s - loss: 0.0426 - acc: 0.9905\n",
            "Epoch 16: val_loss did not improve from 0.48649\n",
            "250/250 [==============================] - 4s 18ms/step - loss: 0.0425 - acc: 0.9905 - val_loss: 2.0910 - val_acc: 0.7550\n",
            "Epoch 17/20\n",
            "249/250 [============================>.] - ETA: 0s - loss: 0.0489 - acc: 0.9890\n",
            "Epoch 17: val_loss did not improve from 0.48649\n",
            "250/250 [==============================] - 4s 18ms/step - loss: 0.0492 - acc: 0.9887 - val_loss: 1.9133 - val_acc: 0.7610\n",
            "Epoch 18/20\n",
            "249/250 [============================>.] - ETA: 0s - loss: 0.0477 - acc: 0.9872\n",
            "Epoch 18: val_loss did not improve from 0.48649\n",
            "250/250 [==============================] - 4s 18ms/step - loss: 0.0479 - acc: 0.9871 - val_loss: 1.8156 - val_acc: 0.7625\n",
            "Epoch 19/20\n",
            "247/250 [============================>.] - ETA: 0s - loss: 0.0529 - acc: 0.9872\n",
            "Epoch 19: val_loss did not improve from 0.48649\n",
            "250/250 [==============================] - 4s 18ms/step - loss: 0.0528 - acc: 0.9872 - val_loss: 2.1831 - val_acc: 0.7590\n",
            "Epoch 20/20\n",
            "250/250 [==============================] - ETA: 0s - loss: 0.0518 - acc: 0.9872\n",
            "Epoch 20: val_loss did not improve from 0.48649\n",
            "250/250 [==============================] - 5s 18ms/step - loss: 0.0518 - acc: 0.9872 - val_loss: 1.8213 - val_acc: 0.7560\n"
          ]
        },
        {
          "output_type": "execute_result",
          "data": {
            "text/plain": [
              "<keras.callbacks.History at 0x7f692f4abcd0>"
            ]
          },
          "metadata": {},
          "execution_count": 84
        }
      ]
    },
    {
      "cell_type": "markdown",
      "metadata": {
        "id": "hQSy85qV-cZy"
      },
      "source": [
        "### 체크포인트 로드"
      ]
    },
    {
      "cell_type": "code",
      "metadata": {
        "id": "1RBml9E1-cZy",
        "colab": {
          "base_uri": "https://localhost:8080/"
        },
        "outputId": "5668fdf5-4789-4d8d-bd7d-332e5589f6e7"
      },
      "source": [
        "# 코드입력\n",
        "model.load_weights(checkpoint_path)"
      ],
      "execution_count": 85,
      "outputs": [
        {
          "output_type": "execute_result",
          "data": {
            "text/plain": [
              "<tensorflow.python.training.tracking.util.CheckpointLoadStatus at 0x7f693199b650>"
            ]
          },
          "metadata": {},
          "execution_count": 85
        }
      ]
    },
    {
      "cell_type": "code",
      "source": [
        " model.save('sample.h5')"
      ],
      "metadata": {
        "id": "-rOFXxfBE-NJ"
      },
      "execution_count": null,
      "outputs": []
    },
    {
      "cell_type": "code",
      "source": [
        "from tensorflow.keras.models import load_model"
      ],
      "metadata": {
        "id": "vtcZpBr_FEZ9"
      },
      "execution_count": null,
      "outputs": []
    },
    {
      "cell_type": "code",
      "source": [
        "#저장한 모델 불러오기\n",
        "loaded_model = load_model('sample.h5')"
      ],
      "metadata": {
        "id": "BKha2-uvFHaK"
      },
      "execution_count": null,
      "outputs": []
    },
    {
      "cell_type": "code",
      "source": [
        "def run(loaded_model) :\n",
        "  user_input = input('댓글을 남겨주세요 : ')\n",
        "  sequence = tokenizer.texts_to ~~"
      ],
      "metadata": {
        "id": "Jh3MFuqJFhs8"
      },
      "execution_count": null,
      "outputs": []
    },
    {
      "cell_type": "markdown",
      "metadata": {
        "id": "CnGtBQDJ-cZy"
      },
      "source": [
        "### 결과 예측 (예측 코드는 수정하지 않습니다)"
      ]
    },
    {
      "cell_type": "code",
      "metadata": {
        "id": "yqT7irxM-cZy",
        "colab": {
          "base_uri": "https://localhost:8080/"
        },
        "outputId": "65ae15a9-aa36-4a8c-bf08-7a3ff182aa24"
      },
      "source": [
        "pred = model.predict(test_padded)\n",
        "your_answer = pred.round().reshape(-1)\n",
        "your_answer[:5]"
      ],
      "execution_count": 86,
      "outputs": [
        {
          "output_type": "execute_result",
          "data": {
            "text/plain": [
              "array([0., 1., 0., 1., 0.], dtype=float32)"
            ]
          },
          "metadata": {},
          "execution_count": 86
        }
      ]
    },
    {
      "cell_type": "markdown",
      "metadata": {
        "id": "V1PURs-gbphu"
      },
      "source": [
        "## 결과 제출\n",
        "\n",
        "### 순서대로 평가가 진행됩니다. 실행은 1회만 해주세요.\n",
        "\n",
        "- 느리다고 중지 후 다시 평가 코드를 실행하는 경우 제출 과정에서 패널티가 발생할 수 있습니다. (제출 횟수 이슈 발생 가능)\n",
        "\n",
        "- 전체 점수는 [평가시스템](http://manage.jaen.kr)에서 확인할 수 있습니다.\n",
        "    - 프로젝트 > 영화리뷰 감정 분석 > 리더보드 > 같은 반 리더보드"
      ]
    },
    {
      "cell_type": "markdown",
      "metadata": {
        "id": "mUz8NLzC-cZz"
      },
      "source": [
        "아래 Cell을 실행하여 예측 결과 업데이트"
      ]
    },
    {
      "cell_type": "code",
      "source": [
        "# 예측 결과 업데이트\n",
        "submission = pd.read_csv(os.path.join(DATA_DIR, project_name, 'submission.csv'))\n",
        "submission['label'] = your_answer\n",
        "display(submission)\n",
        "\n",
        "# 제출\n",
        "project.email = email\n",
        "project.submit(submission)"
      ],
      "metadata": {
        "id": "j8q8LlWBrD0v",
        "colab": {
          "base_uri": "https://localhost:8080/",
          "height": 497
        },
        "outputId": "8740ba9d-aceb-4880-fe59-f03b8b5015c8"
      },
      "execution_count": 87,
      "outputs": [
        {
          "output_type": "display_data",
          "data": {
            "text/plain": [
              "        id  label\n",
              "0        0    0.0\n",
              "1        1    1.0\n",
              "2        2    0.0\n",
              "3        3    1.0\n",
              "4        4    0.0\n",
              "...    ...    ...\n",
              "9995  9995    1.0\n",
              "9996  9996    0.0\n",
              "9997  9997    1.0\n",
              "9998  9998    0.0\n",
              "9999  9999    1.0\n",
              "\n",
              "[10000 rows x 2 columns]"
            ],
            "text/html": [
              "\n",
              "  <div id=\"df-44e71939-fc1b-4bba-a283-906476d0bff3\">\n",
              "    <div class=\"colab-df-container\">\n",
              "      <div>\n",
              "<style scoped>\n",
              "    .dataframe tbody tr th:only-of-type {\n",
              "        vertical-align: middle;\n",
              "    }\n",
              "\n",
              "    .dataframe tbody tr th {\n",
              "        vertical-align: top;\n",
              "    }\n",
              "\n",
              "    .dataframe thead th {\n",
              "        text-align: right;\n",
              "    }\n",
              "</style>\n",
              "<table border=\"1\" class=\"dataframe\">\n",
              "  <thead>\n",
              "    <tr style=\"text-align: right;\">\n",
              "      <th></th>\n",
              "      <th>id</th>\n",
              "      <th>label</th>\n",
              "    </tr>\n",
              "  </thead>\n",
              "  <tbody>\n",
              "    <tr>\n",
              "      <th>0</th>\n",
              "      <td>0</td>\n",
              "      <td>0.0</td>\n",
              "    </tr>\n",
              "    <tr>\n",
              "      <th>1</th>\n",
              "      <td>1</td>\n",
              "      <td>1.0</td>\n",
              "    </tr>\n",
              "    <tr>\n",
              "      <th>2</th>\n",
              "      <td>2</td>\n",
              "      <td>0.0</td>\n",
              "    </tr>\n",
              "    <tr>\n",
              "      <th>3</th>\n",
              "      <td>3</td>\n",
              "      <td>1.0</td>\n",
              "    </tr>\n",
              "    <tr>\n",
              "      <th>4</th>\n",
              "      <td>4</td>\n",
              "      <td>0.0</td>\n",
              "    </tr>\n",
              "    <tr>\n",
              "      <th>...</th>\n",
              "      <td>...</td>\n",
              "      <td>...</td>\n",
              "    </tr>\n",
              "    <tr>\n",
              "      <th>9995</th>\n",
              "      <td>9995</td>\n",
              "      <td>1.0</td>\n",
              "    </tr>\n",
              "    <tr>\n",
              "      <th>9996</th>\n",
              "      <td>9996</td>\n",
              "      <td>0.0</td>\n",
              "    </tr>\n",
              "    <tr>\n",
              "      <th>9997</th>\n",
              "      <td>9997</td>\n",
              "      <td>1.0</td>\n",
              "    </tr>\n",
              "    <tr>\n",
              "      <th>9998</th>\n",
              "      <td>9998</td>\n",
              "      <td>0.0</td>\n",
              "    </tr>\n",
              "    <tr>\n",
              "      <th>9999</th>\n",
              "      <td>9999</td>\n",
              "      <td>1.0</td>\n",
              "    </tr>\n",
              "  </tbody>\n",
              "</table>\n",
              "<p>10000 rows × 2 columns</p>\n",
              "</div>\n",
              "      <button class=\"colab-df-convert\" onclick=\"convertToInteractive('df-44e71939-fc1b-4bba-a283-906476d0bff3')\"\n",
              "              title=\"Convert this dataframe to an interactive table.\"\n",
              "              style=\"display:none;\">\n",
              "        \n",
              "  <svg xmlns=\"http://www.w3.org/2000/svg\" height=\"24px\"viewBox=\"0 0 24 24\"\n",
              "       width=\"24px\">\n",
              "    <path d=\"M0 0h24v24H0V0z\" fill=\"none\"/>\n",
              "    <path d=\"M18.56 5.44l.94 2.06.94-2.06 2.06-.94-2.06-.94-.94-2.06-.94 2.06-2.06.94zm-11 1L8.5 8.5l.94-2.06 2.06-.94-2.06-.94L8.5 2.5l-.94 2.06-2.06.94zm10 10l.94 2.06.94-2.06 2.06-.94-2.06-.94-.94-2.06-.94 2.06-2.06.94z\"/><path d=\"M17.41 7.96l-1.37-1.37c-.4-.4-.92-.59-1.43-.59-.52 0-1.04.2-1.43.59L10.3 9.45l-7.72 7.72c-.78.78-.78 2.05 0 2.83L4 21.41c.39.39.9.59 1.41.59.51 0 1.02-.2 1.41-.59l7.78-7.78 2.81-2.81c.8-.78.8-2.07 0-2.86zM5.41 20L4 18.59l7.72-7.72 1.47 1.35L5.41 20z\"/>\n",
              "  </svg>\n",
              "      </button>\n",
              "      \n",
              "  <style>\n",
              "    .colab-df-container {\n",
              "      display:flex;\n",
              "      flex-wrap:wrap;\n",
              "      gap: 12px;\n",
              "    }\n",
              "\n",
              "    .colab-df-convert {\n",
              "      background-color: #E8F0FE;\n",
              "      border: none;\n",
              "      border-radius: 50%;\n",
              "      cursor: pointer;\n",
              "      display: none;\n",
              "      fill: #1967D2;\n",
              "      height: 32px;\n",
              "      padding: 0 0 0 0;\n",
              "      width: 32px;\n",
              "    }\n",
              "\n",
              "    .colab-df-convert:hover {\n",
              "      background-color: #E2EBFA;\n",
              "      box-shadow: 0px 1px 2px rgba(60, 64, 67, 0.3), 0px 1px 3px 1px rgba(60, 64, 67, 0.15);\n",
              "      fill: #174EA6;\n",
              "    }\n",
              "\n",
              "    [theme=dark] .colab-df-convert {\n",
              "      background-color: #3B4455;\n",
              "      fill: #D2E3FC;\n",
              "    }\n",
              "\n",
              "    [theme=dark] .colab-df-convert:hover {\n",
              "      background-color: #434B5C;\n",
              "      box-shadow: 0px 1px 3px 1px rgba(0, 0, 0, 0.15);\n",
              "      filter: drop-shadow(0px 1px 2px rgba(0, 0, 0, 0.3));\n",
              "      fill: #FFFFFF;\n",
              "    }\n",
              "  </style>\n",
              "\n",
              "      <script>\n",
              "        const buttonEl =\n",
              "          document.querySelector('#df-44e71939-fc1b-4bba-a283-906476d0bff3 button.colab-df-convert');\n",
              "        buttonEl.style.display =\n",
              "          google.colab.kernel.accessAllowed ? 'block' : 'none';\n",
              "\n",
              "        async function convertToInteractive(key) {\n",
              "          const element = document.querySelector('#df-44e71939-fc1b-4bba-a283-906476d0bff3');\n",
              "          const dataTable =\n",
              "            await google.colab.kernel.invokeFunction('convertToInteractive',\n",
              "                                                     [key], {});\n",
              "          if (!dataTable) return;\n",
              "\n",
              "          const docLinkHtml = 'Like what you see? Visit the ' +\n",
              "            '<a target=\"_blank\" href=https://colab.research.google.com/notebooks/data_table.ipynb>data table notebook</a>'\n",
              "            + ' to learn more about interactive tables.';\n",
              "          element.innerHTML = '';\n",
              "          dataTable['output_type'] = 'display_data';\n",
              "          await google.colab.output.renderOutput(dataTable, element);\n",
              "          const docLink = document.createElement('div');\n",
              "          docLink.innerHTML = docLinkHtml;\n",
              "          element.appendChild(docLink);\n",
              "        }\n",
              "      </script>\n",
              "    </div>\n",
              "  </div>\n",
              "  "
            ]
          },
          "metadata": {}
        },
        {
          "output_type": "stream",
          "name": "stdout",
          "text": [
            "파일을 저장하였습니다. 파일명: submission-07-11-55.csv\n",
            "제출 여부 :success\n",
            "오늘 제출 횟수 : 12\n",
            "제출 결과:0.7779\n"
          ]
        }
      ]
    },
    {
      "cell_type": "code",
      "source": [],
      "metadata": {
        "id": "_9p3jUSA0FwW"
      },
      "execution_count": null,
      "outputs": []
    }
  ]
}