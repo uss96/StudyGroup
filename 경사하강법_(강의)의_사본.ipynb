{
  "cells": [
    {
      "cell_type": "markdown",
      "metadata": {
        "id": "view-in-github",
        "colab_type": "text"
      },
      "source": [
        "<a href=\"https://colab.research.google.com/github/uss96/StudyGroup/blob/master/%EA%B2%BD%EC%82%AC%ED%95%98%EA%B0%95%EB%B2%95_(%EA%B0%95%EC%9D%98)%EC%9D%98_%EC%82%AC%EB%B3%B8.ipynb\" target=\"_parent\"><img src=\"https://colab.research.google.com/assets/colab-badge.svg\" alt=\"Open In Colab\"/></a>"
      ]
    },
    {
      "cell_type": "markdown",
      "metadata": {
        "id": "ryxF5RiKUqxx"
      },
      "source": [
        "# 경사하강법 (Gradient Descent)"
      ]
    },
    {
      "cell_type": "markdown",
      "metadata": {
        "id": "uj8r5IFZUqxx"
      },
      "source": [
        "기본 개념은 함수의 기울기(경사)를 구하여 기울기가 낮은 쪽으로 계속 이동시켜서 극값에 이를 때까지 반복시키는 것입니다.\n",
        "\n",
        "**비용 함수 (Cost Function 혹은 Loss Function)를 최소화**하기 위해 반복해서 파라미터를 업데이트 해 나가는 방식입니다."
      ]
    },
    {
      "cell_type": "code",
      "execution_count": null,
      "metadata": {
        "id": "w7mltdDGUqxy",
        "colab": {
          "base_uri": "https://localhost:8080/",
          "height": 339
        },
        "outputId": "82694ab5-d090-46d2-8bcc-905896d35698"
      },
      "outputs": [
        {
          "output_type": "execute_result",
          "data": {
            "text/html": [
              "<img src=\"https://img.pngio.com/scikit-learn-batch-gradient-descent-versus-stochastic-gradient-descent-png-592_319.png\"/>"
            ],
            "text/plain": [
              "<IPython.core.display.Image object>"
            ]
          },
          "metadata": {},
          "execution_count": 1
        }
      ],
      "source": [
        "from IPython.display import Image\n",
        "import numpy as np\n",
        "import matplotlib.pyplot as plt\n",
        "import warnings\n",
        "\n",
        "# 경고 메시지 출력 표기 생략\n",
        "warnings.filterwarnings('ignore')\n",
        "\n",
        "Image(url='https://img.pngio.com/scikit-learn-batch-gradient-descent-versus-stochastic-gradient-descent-png-592_319.png')"
      ]
    },
    {
      "cell_type": "markdown",
      "metadata": {
        "id": "ZRuLBqohLMsY"
      },
      "source": [
        "## 샘플에 활용할 데이터 셋 만들기"
      ]
    },
    {
      "cell_type": "code",
      "execution_count": null,
      "metadata": {
        "id": "pzZRFqeZUqx9"
      },
      "outputs": [],
      "source": [
        "def make_linear(w=0.5, b=0.8, size=50, noise=1.0):\n",
        "    x = np.random.rand(size)\n",
        "    y = w * x + b\n",
        "    noise = np.random.uniform(-abs(noise), abs(noise), size=y.shape)\n",
        "    yy = y + noise\n",
        "    plt.figure(figsize=(10, 7))\n",
        "    plt.plot(x, y, color='r', label=f'y = {w}x + {b}')\n",
        "    plt.scatter(x, yy, label='data')\n",
        "    plt.legend(fontsize=15)\n",
        "    plt.show()\n",
        "    print(f'w: {w}, b: {b}')\n",
        "    return x, yy"
      ]
    },
    {
      "cell_type": "code",
      "execution_count": null,
      "metadata": {
        "id": "-qcmWy8JUqx_",
        "colab": {
          "base_uri": "https://localhost:8080/",
          "height": 446
        },
        "outputId": "64947ea3-7370-4e4e-cd5a-3679d6a9135c"
      },
      "outputs": [
        {
          "output_type": "display_data",
          "data": {
            "text/plain": [
              "<Figure size 720x504 with 1 Axes>"
            ],
            "image/png": "[encoded data removed]"
          },
          "metadata": {
            "needs_background": "light"
          }
        },
        {
          "output_type": "stream",
          "name": "stdout",
          "text": [
            "w: 0.3, b: 0.5\n"
          ]
        }
      ],
      "source": [
        "x, y = make_linear(w=0.3, b=0.5, size=100, noise=0.01)"
      ]
    },
    {
      "cell_type": "markdown",
      "metadata": {
        "id": "CM-u7na_LMsf"
      },
      "source": [
        "## 초기값 (Initializer)과 y_hat (예측, prediction) 함수 정의"
      ]
    },
    {
      "cell_type": "markdown",
      "metadata": {
        "id": "tauo0pixUqyC"
      },
      "source": [
        "w, b 값에 대하여 random한 초기 값을 설정해 줍니다."
      ]
    },
    {
      "cell_type": "code",
      "execution_count": null,
      "metadata": {
        "id": "w-_dJXtfpYGB",
        "colab": {
          "base_uri": "https://localhost:8080/"
        },
        "outputId": "ef38f210-83e3-4276-8cd5-ff0fdff31ba1"
      },
      "outputs": [
        {
          "output_type": "execute_result",
          "data": {
            "text/plain": [
              "(0.19435519134438972, 0.5373492853700982)"
            ]
          },
          "metadata": {},
          "execution_count": 8
        }
      ],
      "source": [
        "w = np.random.uniform(low=0.0, high=1.0)\n",
        "b = np.random.uniform(low=0.0, high=1.0)\n",
        "w, b"
      ]
    },
    {
      "cell_type": "markdown",
      "metadata": {
        "id": "WuTVUI03UqyE"
      },
      "source": [
        "`y_hat`은 `prediction`은 값 입니다. 즉, 가설함수에서 실제 값 (y)를 뺀 함수를 정의합니다."
      ]
    },
    {
      "cell_type": "code",
      "execution_count": null,
      "metadata": {
        "id": "trVygK4GLMsg"
      },
      "outputs": [],
      "source": [
        "# 코드를 입력해 주세요\n",
        "y_hat = w*x + b"
      ]
    },
    {
      "cell_type": "markdown",
      "metadata": {
        "id": "4N6MK4elLMsi"
      },
      "source": [
        "## 오차(Error) 정의"
      ]
    },
    {
      "cell_type": "markdown",
      "metadata": {
        "id": "r19eta8MLMsj"
      },
      "source": [
        "Loss Function 혹은 Cost Function을 정의 합니다.\n",
        "\n",
        "Loss (Cost) Function은 예측값인 `y_hat`과 `y`의 차이에 **제곱의 평균**으로 정의합니다.\n",
        "\n",
        "제곱은 오차에 대한 음수 값을 허용하지 않으며, 이는 **Mean Squared Error(MSE)**인 평균 제곱 오차 평가 지표와 관련 있습니다."
      ]
    },
    {
      "cell_type": "code",
      "execution_count": null,
      "metadata": {
        "id": "ygZPHM2xLMsj"
      },
      "outputs": [],
      "source": [
        "# 코드를 입력해 주세요\n",
        "error = ((y_hat - y)**2).mean()"
      ]
    },
    {
      "cell_type": "markdown",
      "metadata": {
        "id": "VwzjytZvUqyI"
      },
      "source": [
        "## 학습률 (Learning Rate)"
      ]
    },
    {
      "cell_type": "code",
      "execution_count": null,
      "metadata": {
        "id": "9t_hsbBUUqyJ",
        "colab": {
          "base_uri": "https://localhost:8080/",
          "height": 195
        },
        "outputId": "01a6ac14-2733-43e2-a967-fc9e95c7999d"
      },
      "outputs": [
        {
          "output_type": "execute_result",
          "data": {
            "text/html": [
              "<img src=\"https://www.deeplearningwizard.com/deep_learning/boosting_models_pytorch/images/lr1.png\" width=\"650\"/>"
            ],
            "text/plain": [
              "<IPython.core.display.Image object>"
            ]
          },
          "metadata": {},
          "execution_count": 13
        }
      ],
      "source": [
        "Image(url='https://www.deeplearningwizard.com/deep_learning/boosting_models_pytorch/images/lr1.png', width = 650)"
      ]
    },
    {
      "cell_type": "markdown",
      "metadata": {
        "id": "NJMFH9wTUqyL"
      },
      "source": [
        "한 번 학습할 때 **얼마만큼 가중치(weight)를 업데이트** 해야 하는지 학습 양을 의미합니다.\n",
        "\n",
        "너무 큰 학습률 (Learning Rate)은 가중치 갱신이 크게 되어 **자칫 Error가 수렴하지 못하고 발산**할 수 있으며,\n",
        "\n",
        "너무 작은 학습률은 가중치 갱신이 작게 되어 **가중치 갱신이 충분히 되지 않고, 학습이 끝나** 버릴 수 있습니다. 즉 과소 적합되어 있는 상태로 남아 있을 수 있습니다.\n",
        "\n"
      ]
    },
    {
      "cell_type": "markdown",
      "metadata": {
        "id": "ajAr6o76LMsm"
      },
      "source": [
        "## Gradient Descent 구현 (단항식)"
      ]
    },
    {
      "cell_type": "code",
      "execution_count": null,
      "metadata": {
        "id": "1iIYNKTyLMsm"
      },
      "outputs": [],
      "source": [
        "# 최대 반복 횟수\n",
        "num_epoch = 500\n",
        "\n",
        "# 학습율 (learning_rate)\n",
        "learning_rate = 0.5"
      ]
    },
    {
      "cell_type": "code",
      "execution_count": null,
      "metadata": {
        "id": "IpQ6BcuMLMso",
        "colab": {
          "base_uri": "https://localhost:8080/"
        },
        "outputId": "3d52aa6e-6a0d-474c-cbe3-3c2166c79211"
      },
      "outputs": [
        {
          "output_type": "stream",
          "name": "stdout",
          "text": [
            " 0 w = 0.65615, b = 0.36445 error = 0.03307\n",
            " 5 w = 0.58571, b = 0.34589 error = 0.00670\n",
            "10 w = 0.54529, b = 0.36725 error = 0.00494\n",
            "15 w = 0.51071, b = 0.38584 error = 0.00365\n",
            "20 w = 0.48104, b = 0.40179 error = 0.00270\n",
            "25 w = 0.45556, b = 0.41549 error = 0.00200\n",
            "30 w = 0.43369, b = 0.42724 error = 0.00148\n",
            "35 w = 0.41492, b = 0.43734 error = 0.00110\n",
            "40 w = 0.39880, b = 0.44600 error = 0.00082\n",
            "45 w = 0.38496, b = 0.45344 error = 0.00061\n",
            "50 w = 0.37309, b = 0.45982 error = 0.00046\n",
            "55 w = 0.36289, b = 0.46530 error = 0.00035\n",
            "60 w = 0.35414, b = 0.47001 error = 0.00026\n",
            "65 w = 0.34662, b = 0.47405 error = 0.00020\n",
            "70 w = 0.34017, b = 0.47752 error = 0.00016\n",
            "75 w = 0.33463, b = 0.48049 error = 0.00012\n",
            "80 w = 0.32988, b = 0.48305 error = 0.00010\n",
            "85 w = 0.32580, b = 0.48524 error = 0.00008\n",
            "90 w = 0.32230, b = 0.48712 error = 0.00007\n",
            "95 w = 0.31929, b = 0.48874 error = 0.00006\n",
            "100 w = 0.31671, b = 0.49013 error = 0.00005\n",
            "------------------------------------------------------------\n",
            "101 w = 0.3, b = 0.5 error = 0.00005\n"
          ]
        }
      ],
      "source": [
        "errors = []\n",
        "\n",
        "# random 한 값으로 w, b를 초기화 합니다.\n",
        "w = np.random.uniform(low=0.0, high=1.0)\n",
        "b = np.random.uniform(low=0.0, high=1.0)\n",
        "\n",
        "for epoch in range(num_epoch):\n",
        "    # 코드를 입력해 주세요\n",
        "    y_hat = w*x + b\n",
        "\n",
        "    # 코드를 입력해 주세요\n",
        "    error = ((y_hat - y)**2).mean()\n",
        "    if error < 0.00005:\n",
        "        break\n",
        "\n",
        "    # 코드를 입력해 주세요\n",
        "    w = w - learning_rate * ((y_hat - y)*x).mean()\n",
        "    b = b - learning_rate * (y_hat - y).mean()\n",
        "    \n",
        "    errors.append(error)\n",
        "\n",
        "    if epoch % 5 == 0:\n",
        "        print(\"{0:2} w = {1:.5f}, b = {2:.5f} error = {3:.5f}\".format(epoch, w, b, error))\n",
        "    \n",
        "print(\"----\" * 15)\n",
        "print(\"{0:2} w = {1:.1f}, b = {2:.1f} error = {3:.5f}\".format(epoch, w, b, error))"
      ]
    },
    {
      "cell_type": "markdown",
      "metadata": {
        "id": "gZnRP06EUqyP"
      },
      "source": [
        "**시각화**\n",
        "\n",
        "학습 진행(epoch)에 따른 오차를 시각화 합니다."
      ]
    },
    {
      "cell_type": "code",
      "execution_count": null,
      "metadata": {
        "id": "IblSaamPLMss",
        "colab": {
          "base_uri": "https://localhost:8080/",
          "height": 442
        },
        "outputId": "26068343-bb40-4b52-8bf8-5ea8af48e32f"
      },
      "outputs": [
        {
          "output_type": "display_data",
          "data": {
            "text/plain": [
              "<Figure size 720x504 with 1 Axes>"
            ],
            "image/png": "[encoded data removed]"
          },
          "metadata": {
            "needs_background": "light"
          }
        }
      ],
      "source": [
        "plt.figure(figsize=(10, 7))\n",
        "plt.plot(errors)\n",
        "plt.xlabel('Epochs')\n",
        "plt.ylabel('Error')\n",
        "plt.show()"
      ]
    },
    {
      "cell_type": "markdown",
      "metadata": {
        "id": "Q8iw7WZNpR_I"
      },
      "source": [
        "## 다항식"
      ]
    },
    {
      "cell_type": "markdown",
      "metadata": {
        "id": "VpgsozbDUqyR"
      },
      "source": [
        "**샘플 데이터**를 생성합니다."
      ]
    },
    {
      "cell_type": "markdown",
      "metadata": {
        "id": "PAdOEqXCUqyR"
      },
      "source": [
        "이번에는 Feature Data, 즉 X 값이 여러 개인 다항식의 경우에 대해서도 구해보도록 하겠습니다.\n",
        "\n",
        "다항식에서는 X의 갯수 만큼, W 갯수도 늘어날 것입니다.\n",
        "\n",
        "다만, bias (b)의 계수는 1개인 점에 유의해 주세요."
      ]
    },
    {
      "cell_type": "code",
      "execution_count": null,
      "metadata": {
        "id": "woNtXYodpSFm"
      },
      "outputs": [],
      "source": [
        "x1 = np.random.rand(100)\n",
        "x2 = np.random.rand(100)\n",
        "x3 = np.random.rand(100)"
      ]
    },
    {
      "cell_type": "markdown",
      "metadata": {
        "id": "SsWfNXITvMWt"
      },
      "source": [
        "**다항식을 정의**합니다."
      ]
    },
    {
      "cell_type": "code",
      "execution_count": null,
      "metadata": {
        "id": "5aNdmIf8pvJ6"
      },
      "outputs": [],
      "source": [
        "y = 0.3 * x1 + 0.5 * x2 + 0.7 * x3 + 0.9"
      ]
    },
    {
      "cell_type": "markdown",
      "metadata": {
        "id": "sgLRY_MoUqyW"
      },
      "source": [
        "## Gradient Descent 구현 (다항식)"
      ]
    },
    {
      "cell_type": "code",
      "execution_count": null,
      "metadata": {
        "id": "Z5IuMfOMqAWq",
        "colab": {
          "base_uri": "https://localhost:8080/"
        },
        "outputId": "902241a5-f975-4768-aaf2-2e0cfeb295f1"
      },
      "outputs": [
        {
          "output_type": "stream",
          "name": "stdout",
          "text": [
            " 0 w1 = 0.57601, w2 = 0.60500, w3 = 0.74950, b = 0.68301 error = 0.03843\n",
            " 5 w1 = 0.52094, w2 = 0.58988, w3 = 0.75100, b = 0.70503 error = 0.00683\n",
            "10 w1 = 0.48006, w2 = 0.58012, w3 = 0.75388, b = 0.73073 error = 0.00476\n",
            "15 w1 = 0.44706, w2 = 0.57147, w3 = 0.75454, b = 0.75280 error = 0.00335\n",
            "20 w1 = 0.42037, w2 = 0.56378, w3 = 0.75364, b = 0.77179 error = 0.00239\n",
            "25 w1 = 0.39876, w2 = 0.55693, w3 = 0.75169, b = 0.78818 error = 0.00172\n",
            "30 w1 = 0.38123, w2 = 0.55083, w3 = 0.74906, b = 0.80234 error = 0.00126\n",
            "35 w1 = 0.36697, w2 = 0.54538, w3 = 0.74601, b = 0.81460 error = 0.00093\n",
            "40 w1 = 0.35536, w2 = 0.54052, w3 = 0.74275, b = 0.82524 error = 0.00069\n",
            "45 w1 = 0.34589, w2 = 0.53617, w3 = 0.73943, b = 0.83449 error = 0.00052\n",
            "50 w1 = 0.33814, w2 = 0.53227, w3 = 0.73614, b = 0.84254 error = 0.00039\n",
            "55 w1 = 0.33179, w2 = 0.52879, w3 = 0.73296, b = 0.84956 error = 0.00030\n",
            "60 w1 = 0.32656, w2 = 0.52568, w3 = 0.72994, b = 0.85569 error = 0.00023\n",
            "65 w1 = 0.32226, w2 = 0.52290, w3 = 0.72709, b = 0.86104 error = 0.00017\n",
            "70 w1 = 0.31871, w2 = 0.52041, w3 = 0.72445, b = 0.86573 error = 0.00013\n",
            "75 w1 = 0.31577, w2 = 0.51818, w3 = 0.72200, b = 0.86983 error = 0.00010\n",
            "80 w1 = 0.31333, w2 = 0.51620, w3 = 0.71976, b = 0.87343 error = 0.00008\n",
            "85 w1 = 0.31130, w2 = 0.51442, w3 = 0.71771, b = 0.87659 error = 0.00006\n",
            "90 w1 = 0.30960, w2 = 0.51284, w3 = 0.71585, b = 0.87936 error = 0.00005\n",
            "95 w1 = 0.30818, w2 = 0.51142, w3 = 0.71416, b = 0.88180 error = 0.00004\n",
            "100 w1 = 0.30698, w2 = 0.51016, w3 = 0.71264, b = 0.88395 error = 0.00003\n",
            "105 w1 = 0.30598, w2 = 0.50904, w3 = 0.71127, b = 0.88583 error = 0.00002\n",
            "110 w1 = 0.30513, w2 = 0.50803, w3 = 0.71004, b = 0.88750 error = 0.00002\n",
            "115 w1 = 0.30441, w2 = 0.50714, w3 = 0.70894, b = 0.88896 error = 0.00001\n",
            "120 w1 = 0.30380, w2 = 0.50634, w3 = 0.70795, b = 0.89025 error = 0.00001\n",
            "------------------------------------------------------------\n",
            "122 w1 = 0.3, w2 = 0.5, w3 = 0.7, b = 0.9 error = 0.00001\n"
          ]
        }
      ],
      "source": [
        "errors = []\n",
        "w1_grad = []\n",
        "w2_grad = []\n",
        "w3_grad = []\n",
        "\n",
        "num_epoch=5000\n",
        "learning_rate=0.5\n",
        "\n",
        "w1 = np.random.uniform(low=0.0, high=1.0)\n",
        "w2 = np.random.uniform(low=0.0, high=1.0)\n",
        "w3 = np.random.uniform(low=0.0, high=1.0)\n",
        "\n",
        "b = np.random.uniform(low=0.0, high=1.0)\n",
        "\n",
        "for epoch in range(num_epoch):\n",
        "    # 코드를 입력해 주세요\n",
        "    y_hat = w1*x1+w2*x2+w3*x3+b\n",
        "\n",
        "    # 코드를 입력해 주세요\n",
        "    error = ((y_hat-y)**2).mean()\n",
        "    if error < 0.00001:\n",
        "        break\n",
        "\n",
        "    # 코드를 입력해 주세요\n",
        "    # 미분값 적용 (Gradient)\n",
        "    w1 = w1 - learning_rate * ((y_hat - y)*x1).mean()\n",
        "    w2 = w2 - learning_rate * ((y_hat - y)*x2).mean()\n",
        "    w3 = w3 - learning_rate * ((y_hat - y)*x3).mean()   \n",
        "\n",
        "\n",
        "    b = b - learning_rate * (y_hat - y).mean()\n",
        "    \n",
        "    w1_grad.append(w1)\n",
        "    w2_grad.append(w2)\n",
        "    w3_grad.append(w3)\n",
        "    \n",
        "    errors.append(error)\n",
        "\n",
        "    if epoch % 5 == 0:\n",
        "        print(\"{0:2} w1 = {1:.5f}, w2 = {2:.5f}, w3 = {3:.5f}, b = {4:.5f} error = {5:.5f}\".format(epoch, w1, w2, w3, b, error))\n",
        "    \n",
        "print(\"----\" * 15)\n",
        "print(\"{0:2} w1 = {1:.1f}, w2 = {2:.1f}, w3 = {3:.1f}, b = {4:.1f} error = {5:.5f}\".format(epoch, w1, w2, w3, b, error))"
      ]
    },
    {
      "cell_type": "code",
      "execution_count": null,
      "metadata": {
        "id": "BoIzU-K-qbWZ",
        "colab": {
          "base_uri": "https://localhost:8080/",
          "height": 444
        },
        "outputId": "8ffb497f-c531-44cc-b24d-a2320b68a80c"
      },
      "outputs": [
        {
          "output_type": "display_data",
          "data": {
            "text/plain": [
              "<Figure size 720x504 with 1 Axes>"
            ],
            "image/png": "[encoded data removed]"
          },
          "metadata": {
            "needs_background": "light"
          }
        }
      ],
      "source": [
        "plt.figure(figsize=(10, 7))\n",
        "plt.plot(errors)\n",
        "plt.title('Errors')\n",
        "plt.show()"
      ]
    },
    {
      "cell_type": "markdown",
      "metadata": {
        "id": "zq85a7Asw5ZG"
      },
      "source": [
        "## 가중치 (W1, W2, W3) 값들의 변화량 시각화"
      ]
    },
    {
      "cell_type": "markdown",
      "metadata": {
        "id": "DcDPnN3JUqyb"
      },
      "source": [
        "`Epoch`가 지남에 따라 어떻게 가중치들이 업데이트 되는지 시각화 해 봅니다."
      ]
    },
    {
      "cell_type": "code",
      "execution_count": null,
      "metadata": {
        "id": "n4vdXxMcwQaq",
        "colab": {
          "base_uri": "https://localhost:8080/",
          "height": 446
        },
        "outputId": "c6ea1931-22ac-4bf7-b202-79a6f4b956cc"
      },
      "outputs": [
        {
          "output_type": "display_data",
          "data": {
            "text/plain": [
              "<Figure size 720x504 with 1 Axes>"
            ],
            "image/png": "[encoded data removed]"
          },
          "metadata": {
            "needs_background": "light"
          }
        }
      ],
      "source": [
        "plt.figure(figsize=(10, 7))\n",
        "\n",
        "plt.hlines(y=0.3, xmin=0, xmax=len(w1_grad), color='r')\n",
        "plt.plot(w1_grad, color='g')\n",
        "plt.ylim(0, 1)\n",
        "plt.title('W1', fontsize=16)\n",
        "plt.legend(['W1 Change', 'W1'])\n",
        "plt.show()"
      ]
    },
    {
      "cell_type": "code",
      "execution_count": null,
      "metadata": {
        "id": "YL1YMw8xwfO2",
        "colab": {
          "base_uri": "https://localhost:8080/",
          "height": 446
        },
        "outputId": "71a5e36e-5da8-443e-d98c-f11b64043c5f"
      },
      "outputs": [
        {
          "output_type": "display_data",
          "data": {
            "text/plain": [
              "<Figure size 720x504 with 1 Axes>"
            ],
            "image/png": "[encoded data removed]"
          },
          "metadata": {
            "needs_background": "light"
          }
        }
      ],
      "source": [
        "plt.figure(figsize=(10, 7))\n",
        "\n",
        "plt.hlines(y=0.5, xmin=0, xmax=len(w2_grad), color='r')\n",
        "plt.plot(w2_grad, color='g')\n",
        "plt.ylim(0, 1)\n",
        "plt.title('W2', fontsize=16)\n",
        "plt.legend(['W2 Change', 'W2'])\n",
        "plt.show()"
      ]
    },
    {
      "cell_type": "code",
      "execution_count": null,
      "metadata": {
        "id": "AIJgOedAx1E1",
        "colab": {
          "base_uri": "https://localhost:8080/",
          "height": 446
        },
        "outputId": "f5b4bfe8-407e-4452-b536-c889acaa1620"
      },
      "outputs": [
        {
          "output_type": "display_data",
          "data": {
            "text/plain": [
              "<Figure size 720x504 with 1 Axes>"
            ],
            "image/png": "[encoded data removed]"
          },
          "metadata": {
            "needs_background": "light"
          }
        }
      ],
      "source": [
        "plt.figure(figsize=(10, 7))\n",
        "\n",
        "plt.hlines(y=0.7, xmin=0, xmax=len(w3_grad), color='r')\n",
        "plt.plot(w3_grad, color='g')\n",
        "plt.ylim(0, 1)\n",
        "plt.title('W3', fontsize=16)\n",
        "plt.legend(['W3 Change', 'W3'])\n",
        "plt.show()"
      ]
    },
    {
      "cell_type": "code",
      "source": [
        ""
      ],
      "metadata": {
        "id": "ZeOmH7LHVm-1"
      },
      "execution_count": null,
      "outputs": []
    }
  ],
  "metadata": {
    "colab": {
      "collapsed_sections": [],
      "name": "경사하강법 (강의)의 사본",
      "provenance": [],
      "include_colab_link": true
    },
    "kernelspec": {
      "display_name": "Python 3",
      "language": "python",
      "name": "python3"
    },
    "language_info": {
      "codemirror_mode": {
        "name": "ipython",
        "version": 3
      },
      "file_extension": ".py",
      "mimetype": "text/x-python",
      "name": "python",
      "nbconvert_exporter": "python",
      "pygments_lexer": "ipython3",
      "version": "3.7.10"
    },
    "accelerator": "GPU",
    "gpuClass": "standard"
  },
  "nbformat": 4,
  "nbformat_minor": 0
}