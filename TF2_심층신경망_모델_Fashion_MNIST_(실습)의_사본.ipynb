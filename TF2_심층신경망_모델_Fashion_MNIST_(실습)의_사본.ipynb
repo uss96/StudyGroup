{
  "nbformat": 4,
  "nbformat_minor": 0,
  "metadata": {
    "accelerator": "GPU",
    "colab": {
      "name": "TF2 심층신경망 모델 - Fashion MNIST (실습)의 사본",
      "provenance": [],
      "collapsed_sections": [],
      "include_colab_link": true
    },
    "kernelspec": {
      "display_name": "Python 3",
      "language": "python",
      "name": "python3"
    },
    "language_info": {
      "codemirror_mode": {
        "name": "ipython",
        "version": 3
      },
      "file_extension": ".py",
      "mimetype": "text/x-python",
      "name": "python",
      "nbconvert_exporter": "python",
      "pygments_lexer": "ipython3",
      "version": "3.6.6"
    }
  },
  "cells": [
    {
      "cell_type": "markdown",
      "metadata": {
        "id": "view-in-github",
        "colab_type": "text"
      },
      "source": [
        "<a href=\"https://colab.research.google.com/github/uss96/StudyGroup/blob/master/TF2_%EC%8B%AC%EC%B8%B5%EC%8B%A0%EA%B2%BD%EB%A7%9D_%EB%AA%A8%EB%8D%B8_Fashion_MNIST_(%EC%8B%A4%EC%8A%B5)%EC%9D%98_%EC%82%AC%EB%B3%B8.ipynb\" target=\"_parent\"><img src=\"https://colab.research.google.com/assets/colab-badge.svg\" alt=\"Open In Colab\"/></a>"
      ]
    },
    {
      "cell_type": "markdown",
      "metadata": {
        "id": "vY-Ca0dhGTAk"
      },
      "source": [
        "# TF2 심층신경망 모델 - Fashion MNIST (실습)\n",
        "\n",
        "Fully Connected Layer (Dense)를 활용한 이미지 분류 (Image Classification)"
      ]
    },
    {
      "cell_type": "markdown",
      "metadata": {
        "id": "ww0hxcaSGb0m"
      },
      "source": [
        "## 확인"
      ]
    },
    {
      "cell_type": "markdown",
      "metadata": {
        "id": "FI6oK1X-GdJJ"
      },
      "source": [
        "1. GPU 옵션 켜져 있는지 확인할 것!!! (수정 - 노트설정 - 하드웨어설정 (GPU))"
      ]
    },
    {
      "cell_type": "markdown",
      "metadata": {
        "id": "1yoe-K38GQ4b"
      },
      "source": [
        "## 순서"
      ]
    },
    {
      "cell_type": "markdown",
      "metadata": {
        "id": "Bc6iTV8DGPop"
      },
      "source": [
        "1. **import**: 필요한 모듈 import\n",
        "2. **전처리**: 학습에 필요한 데이터 전처리를 수행합니다.\n",
        "3. **모델링(model)**: 모델을 정의합니다.\n",
        "4. **컴파일(compile)**: 모델을 생성합니다.\n",
        "5. **학습 (fit)**: 모델을 학습시킵니다."
      ]
    },
    {
      "cell_type": "markdown",
      "metadata": {
        "id": "rK6HdzR7nil3"
      },
      "source": [
        "## 문제"
      ]
    },
    {
      "cell_type": "markdown",
      "metadata": {
        "id": "1JDqQLWCnil4"
      },
      "source": [
        "Fashion MNIST 데이터 셋에 대한 분류기 생성\n",
        "테스트는 10 개의 클래스를 분류 할 것으로 예상하고\n",
        "\n",
        "입력 모양은 Fashion MNIST 데이터 세트의 기본 크기 여야합니다.28x28 단색. \n",
        "\n",
        "데이터 크기를 조정하지 마십시오. input_shape는\n",
        "(28,28)을 입력 모양으로 만 사용합니다. "
      ]
    },
    {
      "cell_type": "markdown",
      "metadata": {
        "id": "OAvRmF3_HMIu"
      },
      "source": [
        "------------------------------------"
      ]
    },
    {
      "cell_type": "markdown",
      "metadata": {
        "id": "1dWL4Kn7G4eH"
      },
      "source": [
        "# 실습"
      ]
    },
    {
      "cell_type": "markdown",
      "metadata": {
        "id": "UrUNBY6xHH6m"
      },
      "source": [
        "## STEP 1. import"
      ]
    },
    {
      "cell_type": "code",
      "metadata": {
        "id": "G9M_SARJnil5"
      },
      "source": [
        "import numpy as np\n",
        "import matplotlib.pyplot as plt\n",
        "import tensorflow as tf\n",
        "\n",
        "from tensorflow.keras.layers import Dense, Flatten\n",
        "from tensorflow.keras.models import Sequential\n",
        "from tensorflow.keras.callbacks import ModelCheckpoint"
      ],
      "execution_count": null,
      "outputs": []
    },
    {
      "cell_type": "markdown",
      "metadata": {
        "id": "2HGYCJ1Tnil7"
      },
      "source": [
        "## STEP 2. 전처리 (pre-processing)"
      ]
    },
    {
      "cell_type": "markdown",
      "metadata": {
        "id": "Kg0sXFW2nil7"
      },
      "source": [
        "**tf.keras.datasets** 에는 다양한 샘플 데이터를 제공해줍니다."
      ]
    },
    {
      "cell_type": "markdown",
      "metadata": {
        "id": "H43uLfTrHERV"
      },
      "source": [
        "\n",
        "[tf.keras.datasets](https://www.tensorflow.org/api_docs/python/tf/keras/datasets)\n",
        "\n",
        "* **fashion_mnist**: Fashion-MNIST 옷(패션) 데이터 셋\n",
        "\n",
        "* **mnist**: MNIST 손글씨 데이터 셋"
      ]
    },
    {
      "cell_type": "markdown",
      "metadata": {
        "id": "PPpM4Xy5HsoH"
      },
      "source": [
        "데이터 셋을 **로드** 합니다. (mnist)"
      ]
    },
    {
      "cell_type": "markdown",
      "metadata": {
        "id": "vV5IsHOqMLnl"
      },
      "source": [
        "[코드]"
      ]
    },
    {
      "cell_type": "code",
      "metadata": {
        "id": "nWsdj7Dgnil8"
      },
      "source": [
        "fashion_mnist = tf.keras.datasets.fashion_mnist"
      ],
      "execution_count": null,
      "outputs": []
    },
    {
      "cell_type": "markdown",
      "metadata": {
        "id": "H05dHM_HoSYO"
      },
      "source": [
        "데이터 셋 로드: \n",
        "* **mnist.load_data()**\n",
        "* **fashion_mnist.load_data()**"
      ]
    },
    {
      "cell_type": "markdown",
      "metadata": {
        "id": "yvRH71ADI_dw"
      },
      "source": [
        "데이터 셋을 불러와, train / validation 세트를 구성합니다."
      ]
    },
    {
      "cell_type": "markdown",
      "metadata": {
        "id": "1kv3nb02MJfj"
      },
      "source": [
        "[코드] "
      ]
    },
    {
      "cell_type": "code",
      "metadata": {
        "id": "JWSZUSoWnil_"
      },
      "source": [
        "(x_train, y_train), (x_valid, y_valid) = fashion_mnist.load_data()"
      ],
      "execution_count": null,
      "outputs": []
    },
    {
      "cell_type": "markdown",
      "metadata": {
        "id": "uUCrDWFcH5O3"
      },
      "source": [
        "정상적으로 로드되었는지, **확인**합니다. "
      ]
    },
    {
      "cell_type": "code",
      "metadata": {
        "id": "tQINRel7nimB",
        "colab": {
          "base_uri": "https://localhost:8080/"
        },
        "outputId": "80ae071b-a4d8-467d-836e-a551fe73c8ed"
      },
      "source": [
        "x_train.shape, x_valid.shape"
      ],
      "execution_count": null,
      "outputs": [
        {
          "output_type": "execute_result",
          "data": {
            "text/plain": [
              "((60000, 28, 28), (10000, 28, 28))"
            ]
          },
          "metadata": {},
          "execution_count": 52
        }
      ]
    },
    {
      "cell_type": "code",
      "metadata": {
        "id": "xU_nKXIuH8O-",
        "colab": {
          "base_uri": "https://localhost:8080/"
        },
        "outputId": "75f71626-434b-45b3-8a2e-f7d1617334d7"
      },
      "source": [
        "y_train.shape, y_valid.shape"
      ],
      "execution_count": null,
      "outputs": [
        {
          "output_type": "execute_result",
          "data": {
            "text/plain": [
              "((60000,), (10000,))"
            ]
          },
          "metadata": {},
          "execution_count": 53
        }
      ]
    },
    {
      "cell_type": "markdown",
      "metadata": {
        "id": "SpCEhf6njRqs"
      },
      "source": [
        "**데이터셋 시각화**"
      ]
    },
    {
      "cell_type": "code",
      "metadata": {
        "id": "oioceOg4jVhv",
        "outputId": "770528d3-6adc-474b-e6d2-946c71c124fd",
        "colab": {
          "base_uri": "https://localhost:8080/",
          "height": 350
        }
      },
      "source": [
        "fig, axes = plt.subplots(2, 5)\n",
        "fig.set_size_inches(10, 5)\n",
        "\n",
        "for i in range(10):\n",
        "    axes[i//5, i%5].imshow(x_train[i], cmap='gray')\n",
        "    axes[i//5, i%5].set_title('No. %02d' % y_train[i], fontsize=18)\n",
        "    plt.setp( axes[i//5, i%5].get_xticklabels(), visible=False)\n",
        "    plt.setp( axes[i//5, i%5].get_yticklabels(), visible=False)\n",
        "    axes[i//5, i%5].axis('off')\n",
        "\n",
        "plt.tight_layout()\n",
        "plt.show()"
      ],
      "execution_count": null,
      "outputs": [
        {
          "output_type": "display_data",
          "data": {
            "text/plain": [
              "<Figure size 720x360 with 10 Axes>"
            ],
            "image/png": "[encoded data removed]"
          },
          "metadata": {}
        }
      ]
    },
    {
      "cell_type": "markdown",
      "metadata": {
        "id": "JwOpcgkRny5W"
      },
      "source": [
        "**이미지 정규화 (Normalization)**\n",
        "\n",
        "* 모든 이미지 픽셀(pixel)값들을 0~1 사이의 값으로 정규화 해 줍니다.\n",
        "* x_train, x_valid 에 대해서만 정규화합니다."
      ]
    },
    {
      "cell_type": "markdown",
      "metadata": {
        "id": "BPF65YnpO7-8"
      },
      "source": [
        "정규화(Normalization) 전의 최소값(min), 최대값(max)을 확인합니다."
      ]
    },
    {
      "cell_type": "code",
      "metadata": {
        "id": "psrsKNe7PFrn",
        "colab": {
          "base_uri": "https://localhost:8080/"
        },
        "outputId": "51f493e3-46bd-4e03-8ada-31be5fd345e8"
      },
      "source": [
        "x_train.min(), x_train.max()"
      ],
      "execution_count": null,
      "outputs": [
        {
          "output_type": "execute_result",
          "data": {
            "text/plain": [
              "(0, 255)"
            ]
          },
          "metadata": {},
          "execution_count": 55
        }
      ]
    },
    {
      "cell_type": "markdown",
      "metadata": {
        "id": "fYMtbN69MPkm"
      },
      "source": [
        "[코드]"
      ]
    },
    {
      "cell_type": "code",
      "metadata": {
        "id": "lFArqzZCntDh"
      },
      "source": [
        "x_train = x_train/255.0\n",
        "x_valid= x_valid/255.0"
      ],
      "execution_count": null,
      "outputs": []
    },
    {
      "cell_type": "markdown",
      "metadata": {
        "id": "dZK1P_g4PNCy"
      },
      "source": [
        "정규화 후 최소값/최대값 확인"
      ]
    },
    {
      "cell_type": "code",
      "metadata": {
        "id": "FWJTNdezPQ2h",
        "colab": {
          "base_uri": "https://localhost:8080/"
        },
        "outputId": "ea47a1f4-0c76-4983-b043-85afd98273ee"
      },
      "source": [
        "x_train.min(), x_train.max()"
      ],
      "execution_count": null,
      "outputs": [
        {
          "output_type": "execute_result",
          "data": {
            "text/plain": [
              "(0.0, 1.0)"
            ]
          },
          "metadata": {},
          "execution_count": 57
        }
      ]
    },
    {
      "cell_type": "markdown",
      "metadata": {
        "id": "qus44o00Jo77"
      },
      "source": [
        "## STEP 3. 모델 정의 (Sequential)"
      ]
    },
    {
      "cell_type": "markdown",
      "metadata": {
        "id": "azRvYVbQnim5"
      },
      "source": [
        "이제 Modeling을 할 차례입니다.\n",
        "\n",
        "`Sequential` 모델 안에서 층을 깊게 쌓아 올려 주면 됩니다.\n",
        "\n",
        "1. Dense 레이어는 2D 형태의 데이터를 받아들이지 못합니다. Flatten 레이어로 2D -> 1D로 변환해주세요\n",
        "2. 깊은 출력층과 더 많은 Layer를 쌓습니다.\n",
        "3. Dense Layer에 `activation='relu'`를 적용합니다.\n",
        "4. 분류(Classification)의 마지막 층의 출력 숫자는 분류하고자 하는 클래스 갯수와 **같아야** 합니다.\n"
      ]
    },
    {
      "cell_type": "markdown",
      "metadata": {
        "id": "uPXabQxgMGCp"
      },
      "source": [
        "[코드]"
      ]
    },
    {
      "cell_type": "code",
      "metadata": {
        "id": "PCDinGHSnim5"
      },
      "source": [
        "model = Sequential([\n",
        "    # Flatten으로 shape 펼치기\n",
        "    Flatten(input_shape=(28, 28)),\n",
        "    # Dense Layer\n",
        "    Dense(1024, activation='relu'),\n",
        "    Dense(512, activation='relu'),\n",
        "    Dense(256, activation='relu'),\n",
        "    Dense(128, activation='relu'),\n",
        "    Dense(64, activation='relu'),\n",
        "    # Classification을 위한 Softmax \n",
        "    Dense(10, activation='softmax'),\n",
        "])\n",
        "    # 출력층의 갯수는 클래스의 갯수와 동일하게 맞춰줍니다 (10개), activation도 잊지마세요!"
      ],
      "execution_count": null,
      "outputs": []
    },
    {
      "cell_type": "markdown",
      "metadata": {
        "id": "3aR788REKyB3"
      },
      "source": [
        "모델에 대한 **요약**을 확인합니다."
      ]
    },
    {
      "cell_type": "code",
      "metadata": {
        "id": "5u4rp7tB-4A1",
        "colab": {
          "base_uri": "https://localhost:8080/"
        },
        "outputId": "fd041076-4923-4da7-bff9-452ac77119dd"
      },
      "source": [
        "model.summary()"
      ],
      "execution_count": null,
      "outputs": [
        {
          "output_type": "stream",
          "name": "stdout",
          "text": [
            "Model: \"sequential_3\"\n",
            "_________________________________________________________________\n",
            " Layer (type)                Output Shape              Param #   \n",
            "=================================================================\n",
            " flatten_3 (Flatten)         (None, 784)               0         \n",
            "                                                                 \n",
            " dense_18 (Dense)            (None, 1024)              803840    \n",
            "                                                                 \n",
            " dense_19 (Dense)            (None, 512)               524800    \n",
            "                                                                 \n",
            " dense_20 (Dense)            (None, 256)               131328    \n",
            "                                                                 \n",
            " dense_21 (Dense)            (None, 128)               32896     \n",
            "                                                                 \n",
            " dense_22 (Dense)            (None, 64)                8256      \n",
            "                                                                 \n",
            " dense_23 (Dense)            (None, 10)                650       \n",
            "                                                                 \n",
            "=================================================================\n",
            "Total params: 1,501,770\n",
            "Trainable params: 1,501,770\n",
            "Non-trainable params: 0\n",
            "_________________________________________________________________\n"
          ]
        }
      ]
    },
    {
      "cell_type": "markdown",
      "metadata": {
        "id": "wnmQV-fDnim8"
      },
      "source": [
        "## STEP 4. 컴파일 (compile)"
      ]
    },
    {
      "cell_type": "markdown",
      "metadata": {
        "id": "pHQ1abHXK8e9"
      },
      "source": [
        "1. `optimizer`는 가장 최적화가 잘되는 알고리즘인 'adam'을 사용합니다.\n",
        "2. `loss`는 무엇을 지정하면 좋을까요? (`categorical_crossentropy` / `sparse_categorical_crossentropy`)\n",
        "3. `metrics`를 'acc' 혹은 'accuracy'로 지정하면, 학습시 정확도를 모니터링 할 수 있습니다."
      ]
    },
    {
      "cell_type": "markdown",
      "metadata": {
        "id": "J2cOSOycMReV"
      },
      "source": [
        "[코드]"
      ]
    },
    {
      "cell_type": "code",
      "metadata": {
        "id": "QCLw6RMZnim-",
        "colab": {
          "base_uri": "https://localhost:8080/"
        },
        "outputId": "ad6260d7-ef1c-497a-90b1-fbb8031a7d37"
      },
      "source": [
        "y_train[0]\n",
        "print(tf.one_hot(y_train[0], 10))"
      ],
      "execution_count": null,
      "outputs": [
        {
          "output_type": "stream",
          "name": "stdout",
          "text": [
            "tf.Tensor([0. 0. 0. 0. 0. 0. 0. 0. 0. 1.], shape=(10,), dtype=float32)\n"
          ]
        }
      ]
    },
    {
      "cell_type": "code",
      "source": [
        "model.compile(optimizer='adam', loss='sparse_categorical_crossentropy', metrics=['acc'])"
      ],
      "metadata": {
        "id": "K73_jN_xVwvy"
      },
      "execution_count": null,
      "outputs": []
    },
    {
      "cell_type": "markdown",
      "metadata": {
        "id": "NyLUPgGCninB"
      },
      "source": [
        "## STEP 5. ModelCheckpoint"
      ]
    },
    {
      "cell_type": "markdown",
      "metadata": {
        "id": "46Oi04ZMLtEB"
      },
      "source": [
        "`val_loss` 기준으로 epoch 마다 최적의 모델을 저장하기 위하여, ModelCheckpoint를 만듭니다.\n",
        "* `checkpoint_path`는 모델이 저장될 파일 명을 설정합니다.\n",
        "* `ModelCheckpoint`을 선언하고, 적절한 옵션 값을 지정합니다."
      ]
    },
    {
      "cell_type": "markdown",
      "metadata": {
        "id": "r_rJ4iAdMSc8"
      },
      "source": [
        "[코드]"
      ]
    },
    {
      "cell_type": "code",
      "metadata": {
        "id": "qJwGq3PoninB"
      },
      "source": [
        "checkpoint_path = \"my_checkpoint.ckpt\"\n",
        "checkpoint = ModelCheckpoint(filepath = checkpoint_path,\n",
        "                             save_weights_only=True,\n",
        "                             save_best_only=True,\n",
        "                             monitor='val_loss',\n",
        "                             verbose=1)"
      ],
      "execution_count": null,
      "outputs": []
    },
    {
      "cell_type": "markdown",
      "metadata": {
        "id": "v3mjb5EAninE"
      },
      "source": [
        "## STEP 6. 학습 (fit)"
      ]
    },
    {
      "cell_type": "markdown",
      "metadata": {
        "id": "3-X6hK_DMYZH"
      },
      "source": [
        "1. `validation_data`를 반드시 지정합니다.\n",
        "2. `epochs`을 적절하게 지정합니다.\n",
        "3. `callbacks`에 바로 위에서 만든 checkpoint를 지정합니다."
      ]
    },
    {
      "cell_type": "markdown",
      "metadata": {
        "id": "7ic2FoiBMTgp"
      },
      "source": [
        "[코드]"
      ]
    },
    {
      "cell_type": "code",
      "metadata": {
        "id": "2uHXDA_vninF",
        "colab": {
          "base_uri": "https://localhost:8080/"
        },
        "outputId": "8640fe92-4f17-4903-8f44-06434af08325"
      },
      "source": [
        "history = model.fit(x_train, y_train, validation_data=(x_valid, y_valid), epochs = 20, callbacks=[checkpoint],)"
      ],
      "execution_count": null,
      "outputs": [
        {
          "output_type": "stream",
          "name": "stdout",
          "text": [
            "Epoch 1/20\n",
            "1875/1875 [==============================] - ETA: 0s - loss: 0.5051 - acc: 0.8172\n",
            "Epoch 1: val_loss improved from inf to 0.44220, saving model to my_checkpoint.ckpt\n",
            "1875/1875 [==============================] - 6s 3ms/step - loss: 0.5051 - acc: 0.8172 - val_loss: 0.4422 - val_acc: 0.8443\n",
            "Epoch 2/20\n",
            "1867/1875 [============================>.] - ETA: 0s - loss: 0.3775 - acc: 0.8644\n",
            "Epoch 2: val_loss improved from 0.44220 to 0.38472, saving model to my_checkpoint.ckpt\n",
            "1875/1875 [==============================] - 6s 3ms/step - loss: 0.3777 - acc: 0.8644 - val_loss: 0.3847 - val_acc: 0.8601\n",
            "Epoch 3/20\n",
            "1871/1875 [============================>.] - ETA: 0s - loss: 0.3408 - acc: 0.8757\n",
            "Epoch 3: val_loss improved from 0.38472 to 0.36746, saving model to my_checkpoint.ckpt\n",
            "1875/1875 [==============================] - 6s 3ms/step - loss: 0.3406 - acc: 0.8757 - val_loss: 0.3675 - val_acc: 0.8725\n",
            "Epoch 4/20\n",
            "1873/1875 [============================>.] - ETA: 0s - loss: 0.3180 - acc: 0.8841\n",
            "Epoch 4: val_loss improved from 0.36746 to 0.34413, saving model to my_checkpoint.ckpt\n",
            "1875/1875 [==============================] - 7s 3ms/step - loss: 0.3180 - acc: 0.8842 - val_loss: 0.3441 - val_acc: 0.8758\n",
            "Epoch 5/20\n",
            "1867/1875 [============================>.] - ETA: 0s - loss: 0.2945 - acc: 0.8920\n",
            "Epoch 5: val_loss did not improve from 0.34413\n",
            "1875/1875 [==============================] - 6s 3ms/step - loss: 0.2944 - acc: 0.8921 - val_loss: 0.3786 - val_acc: 0.8727\n",
            "Epoch 6/20\n",
            "1874/1875 [============================>.] - ETA: 0s - loss: 0.2816 - acc: 0.8965\n",
            "Epoch 6: val_loss improved from 0.34413 to 0.33869, saving model to my_checkpoint.ckpt\n",
            "1875/1875 [==============================] - 7s 4ms/step - loss: 0.2816 - acc: 0.8965 - val_loss: 0.3387 - val_acc: 0.8812\n",
            "Epoch 7/20\n",
            "1868/1875 [============================>.] - ETA: 0s - loss: 0.2683 - acc: 0.9009\n",
            "Epoch 7: val_loss improved from 0.33869 to 0.33680, saving model to my_checkpoint.ckpt\n",
            "1875/1875 [==============================] - 6s 3ms/step - loss: 0.2688 - acc: 0.9007 - val_loss: 0.3368 - val_acc: 0.8800\n",
            "Epoch 8/20\n",
            "1867/1875 [============================>.] - ETA: 0s - loss: 0.2559 - acc: 0.9050\n",
            "Epoch 8: val_loss did not improve from 0.33680\n",
            "1875/1875 [==============================] - 6s 3ms/step - loss: 0.2560 - acc: 0.9050 - val_loss: 0.3714 - val_acc: 0.8784\n",
            "Epoch 9/20\n",
            "1861/1875 [============================>.] - ETA: 0s - loss: 0.2483 - acc: 0.9081\n",
            "Epoch 9: val_loss did not improve from 0.33680\n",
            "1875/1875 [==============================] - 7s 3ms/step - loss: 0.2485 - acc: 0.9080 - val_loss: 0.3474 - val_acc: 0.8820\n",
            "Epoch 10/20\n",
            "1859/1875 [============================>.] - ETA: 0s - loss: 0.2353 - acc: 0.9120\n",
            "Epoch 10: val_loss did not improve from 0.33680\n",
            "1875/1875 [==============================] - 6s 3ms/step - loss: 0.2352 - acc: 0.9121 - val_loss: 0.3798 - val_acc: 0.8811\n",
            "Epoch 11/20\n",
            "1874/1875 [============================>.] - ETA: 0s - loss: 0.2291 - acc: 0.9134\n",
            "Epoch 11: val_loss did not improve from 0.33680\n",
            "1875/1875 [==============================] - 6s 3ms/step - loss: 0.2291 - acc: 0.9134 - val_loss: 0.3576 - val_acc: 0.8850\n",
            "Epoch 12/20\n",
            "1871/1875 [============================>.] - ETA: 0s - loss: 0.2212 - acc: 0.9177\n",
            "Epoch 12: val_loss did not improve from 0.33680\n",
            "1875/1875 [==============================] - 6s 3ms/step - loss: 0.2210 - acc: 0.9178 - val_loss: 0.3540 - val_acc: 0.8800\n",
            "Epoch 13/20\n",
            "1869/1875 [============================>.] - ETA: 0s - loss: 0.2154 - acc: 0.9187\n",
            "Epoch 13: val_loss did not improve from 0.33680\n",
            "1875/1875 [==============================] - 6s 3ms/step - loss: 0.2152 - acc: 0.9187 - val_loss: 0.3513 - val_acc: 0.8863\n",
            "Epoch 14/20\n",
            "1863/1875 [============================>.] - ETA: 0s - loss: 0.2072 - acc: 0.9218\n",
            "Epoch 14: val_loss did not improve from 0.33680\n",
            "1875/1875 [==============================] - 6s 3ms/step - loss: 0.2070 - acc: 0.9218 - val_loss: 0.3432 - val_acc: 0.8831\n",
            "Epoch 15/20\n",
            "1875/1875 [==============================] - ETA: 0s - loss: 0.2044 - acc: 0.9251\n",
            "Epoch 15: val_loss did not improve from 0.33680\n",
            "1875/1875 [==============================] - 6s 3ms/step - loss: 0.2044 - acc: 0.9251 - val_loss: 0.3476 - val_acc: 0.8896\n",
            "Epoch 16/20\n",
            "1870/1875 [============================>.] - ETA: 0s - loss: 0.2042 - acc: 0.9249\n",
            "Epoch 16: val_loss did not improve from 0.33680\n",
            "1875/1875 [==============================] - 6s 3ms/step - loss: 0.2043 - acc: 0.9247 - val_loss: 0.3585 - val_acc: 0.8892\n",
            "Epoch 17/20\n",
            "1860/1875 [============================>.] - ETA: 0s - loss: 0.1895 - acc: 0.9283\n",
            "Epoch 17: val_loss did not improve from 0.33680\n",
            "1875/1875 [==============================] - 6s 3ms/step - loss: 0.1895 - acc: 0.9283 - val_loss: 0.3741 - val_acc: 0.8885\n",
            "Epoch 18/20\n",
            "1860/1875 [============================>.] - ETA: 0s - loss: 0.1853 - acc: 0.9303\n",
            "Epoch 18: val_loss did not improve from 0.33680\n",
            "1875/1875 [==============================] - 6s 3ms/step - loss: 0.1853 - acc: 0.9302 - val_loss: 0.3768 - val_acc: 0.8885\n",
            "Epoch 19/20\n",
            "1874/1875 [============================>.] - ETA: 0s - loss: 0.1844 - acc: 0.9304\n",
            "Epoch 19: val_loss did not improve from 0.33680\n",
            "1875/1875 [==============================] - 6s 3ms/step - loss: 0.1844 - acc: 0.9304 - val_loss: 0.3927 - val_acc: 0.8871\n",
            "Epoch 20/20\n",
            "1873/1875 [============================>.] - ETA: 0s - loss: 0.1794 - acc: 0.9329\n",
            "Epoch 20: val_loss did not improve from 0.33680\n",
            "1875/1875 [==============================] - 6s 3ms/step - loss: 0.1795 - acc: 0.9329 - val_loss: 0.3983 - val_acc: 0.8887\n"
          ]
        }
      ]
    },
    {
      "cell_type": "markdown",
      "metadata": {
        "id": "shzhTOjAninH"
      },
      "source": [
        "## STEP 7. 학습 완료 후 Load Weights (ModelCheckpoint)"
      ]
    },
    {
      "cell_type": "markdown",
      "metadata": {
        "id": "kLqb_6XrMvdq"
      },
      "source": [
        "학습이 완료된 후에는 반드시 `load_weights`를 해주어야 합니다.\n",
        "\n",
        "그렇지 않으면, 열심히 ModelCheckpoint를 만든 의미가 없습니다."
      ]
    },
    {
      "cell_type": "markdown",
      "metadata": {
        "id": "jcXHQ_pNM_zA"
      },
      "source": [
        "[코드]"
      ]
    },
    {
      "cell_type": "code",
      "source": [
        "model.load_weights(checkpoint_path)"
      ],
      "metadata": {
        "colab": {
          "base_uri": "https://localhost:8080/"
        },
        "id": "hbBUcwiVUuKI",
        "outputId": "a92cccb4-7caf-4ac8-bd6a-c26ae040615b"
      },
      "execution_count": null,
      "outputs": [
        {
          "output_type": "execute_result",
          "data": {
            "text/plain": [
              "<tensorflow.python.training.tracking.util.CheckpointLoadStatus at 0x7f25ea689990>"
            ]
          },
          "metadata": {},
          "execution_count": 64
        }
      ]
    },
    {
      "cell_type": "code",
      "metadata": {
        "id": "4jO1ucZ9ninH",
        "colab": {
          "base_uri": "https://localhost:8080/"
        },
        "outputId": "3903990a-b2a6-4d42-e254-5c362a32180c"
      },
      "source": [
        "model.evaluate(x_valid, y_valid)"
      ],
      "execution_count": null,
      "outputs": [
        {
          "output_type": "stream",
          "name": "stdout",
          "text": [
            "313/313 [==============================] - 1s 2ms/step - loss: 0.3368 - acc: 0.8800\n"
          ]
        },
        {
          "output_type": "execute_result",
          "data": {
            "text/plain": [
              "[0.3368012607097626, 0.8799999952316284]"
            ]
          },
          "metadata": {},
          "execution_count": 65
        }
      ]
    },
    {
      "cell_type": "code",
      "source": [
        "plt.figure(figsize=(12, 9))\n",
        "plt.plot(np.arange(1, 21), history.history['loss'])\n",
        "plt.plot(np.arange(1, 21), history.history['val_loss'])\n",
        "plt.title('Loss / Val Loss', fontsize=20)\n",
        "plt.xlabel('Epochs')\n",
        "plt.ylabel('Loss')\n",
        "plt.legend(['loss', 'val_loss'], fontsize=15)\n",
        "plt.show()"
      ],
      "metadata": {
        "colab": {
          "base_uri": "https://localhost:8080/",
          "height": 572
        },
        "id": "MPRMTKr6UrEr",
        "outputId": "aa18d608-bf83-4086-a41e-e0a7ef1c772d"
      },
      "execution_count": null,
      "outputs": [
        {
          "output_type": "display_data",
          "data": {
            "text/plain": [
              "<Figure size 864x648 with 1 Axes>"
            ],
            "image/png": "[encoded data removed]"
          },
          "metadata": {
            "needs_background": "light"
          }
        }
      ]
    },
    {
      "cell_type": "code",
      "source": [
        "plt.figure(figsize=(12, 9))\n",
        "plt.plot(np.arange(1, 21), history.history['acc'])\n",
        "plt.plot(np.arange(1, 21), history.history['val_acc'])\n",
        "plt.title('Acc / Val Acc', fontsize=20)\n",
        "plt.xlabel('Epochs')\n",
        "plt.ylabel('Acc')\n",
        "plt.legend(['acc', 'val_acc'], fontsize=15)\n",
        "plt.show()"
      ],
      "metadata": {
        "colab": {
          "base_uri": "https://localhost:8080/",
          "height": 572
        },
        "id": "tjlhIGYnVSdC",
        "outputId": "7eb5d6fe-4299-40dc-97c6-4c2aff7a9cfb"
      },
      "execution_count": null,
      "outputs": [
        {
          "output_type": "display_data",
          "data": {
            "text/plain": [
              "<Figure size 864x648 with 1 Axes>"
            ],
            "image/png": "[encoded data removed]"
          },
          "metadata": {
            "needs_background": "light"
          }
        }
      ]
    }
  ]
}